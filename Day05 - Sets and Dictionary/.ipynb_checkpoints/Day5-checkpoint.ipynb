{
 "cells": [
  {
   "cell_type": "markdown",
   "metadata": {},
   "source": [
    "#### Topics covered today are \n",
    "1. Sets\n",
    "2. Dictionary"
   ]
  },
  {
   "cell_type": "markdown",
   "metadata": {},
   "source": [
    "1a. Creating a set variable"
   ]
  },
  {
   "cell_type": "code",
   "execution_count": 13,
   "metadata": {},
   "outputs": [
    {
     "name": "stdout",
     "output_type": "stream",
     "text": [
      "{'Facebook', 'Apple', 'Google'}\n",
      "<class 'set'>\n"
     ]
    }
   ],
   "source": [
    "set_companies = {\"Apple\", \"Google\", \"Facebook\"}\n",
    "print(set_companies)\n",
    "print(type(set_companies))"
   ]
  },
  {
   "cell_type": "markdown",
   "metadata": {},
   "source": [
    "1b. Adding an element"
   ]
  },
  {
   "cell_type": "code",
   "execution_count": 16,
   "metadata": {},
   "outputs": [
    {
     "name": "stdout",
     "output_type": "stream",
     "text": [
      "{'Facebook', 'Microsoft', 'Google'}\n"
     ]
    }
   ],
   "source": [
    "set_companies.add(\"Microsoft\")\n",
    "print(set_companies)"
   ]
  },
  {
   "cell_type": "markdown",
   "metadata": {},
   "source": [
    "1c. Removing an element - Discard, Remove and pop and their difference"
   ]
  },
  {
   "cell_type": "code",
   "execution_count": 17,
   "metadata": {},
   "outputs": [],
   "source": [
    "set_companies.discard(\"Tesla\")"
   ]
  },
  {
   "cell_type": "code",
   "execution_count": 18,
   "metadata": {},
   "outputs": [
    {
     "ename": "KeyError",
     "evalue": "'Tesla'",
     "output_type": "error",
     "traceback": [
      "\u001b[1;31m---------------------------------------------------------------------------\u001b[0m",
      "\u001b[1;31mKeyError\u001b[0m                                  Traceback (most recent call last)",
      "\u001b[1;32m<ipython-input-18-db97f065e8b1>\u001b[0m in \u001b[0;36m<module>\u001b[1;34m\u001b[0m\n\u001b[1;32m----> 1\u001b[1;33m \u001b[0mset_companies\u001b[0m\u001b[1;33m.\u001b[0m\u001b[0mremove\u001b[0m\u001b[1;33m(\u001b[0m\u001b[1;34m\"Tesla\"\u001b[0m\u001b[1;33m)\u001b[0m\u001b[1;33m\u001b[0m\u001b[1;33m\u001b[0m\u001b[0m\n\u001b[0m",
      "\u001b[1;31mKeyError\u001b[0m: 'Tesla'"
     ]
    }
   ],
   "source": [
    "set_companies.remove(\"Tesla\")"
   ]
  },
  {
   "cell_type": "code",
   "execution_count": 19,
   "metadata": {},
   "outputs": [
    {
     "ename": "TypeError",
     "evalue": "'set' object doesn't support item deletion",
     "output_type": "error",
     "traceback": [
      "\u001b[1;31m---------------------------------------------------------------------------\u001b[0m",
      "\u001b[1;31mTypeError\u001b[0m                                 Traceback (most recent call last)",
      "\u001b[1;32m<ipython-input-19-1768dd3481f0>\u001b[0m in \u001b[0;36m<module>\u001b[1;34m\u001b[0m\n\u001b[0;32m      1\u001b[0m \u001b[1;31m# Delete not support - as set is not ordered\u001b[0m\u001b[1;33m\u001b[0m\u001b[1;33m\u001b[0m\u001b[1;33m\u001b[0m\u001b[0m\n\u001b[1;32m----> 2\u001b[1;33m \u001b[1;32mdel\u001b[0m \u001b[0mset_companies\u001b[0m\u001b[1;33m[\u001b[0m\u001b[1;36m4\u001b[0m\u001b[1;33m]\u001b[0m\u001b[1;33m\u001b[0m\u001b[1;33m\u001b[0m\u001b[0m\n\u001b[0m",
      "\u001b[1;31mTypeError\u001b[0m: 'set' object doesn't support item deletion"
     ]
    }
   ],
   "source": [
    "# Delete not support - as set is not ordered\n",
    "del set_companies[4]"
   ]
  },
  {
   "cell_type": "code",
   "execution_count": 20,
   "metadata": {},
   "outputs": [
    {
     "name": "stdout",
     "output_type": "stream",
     "text": [
      "{'Microsoft', 'Google'}\n"
     ]
    }
   ],
   "source": [
    "set_companies.pop(\"Tesla\")\n",
    "print(set_companies)"
   ]
  },
  {
   "cell_type": "markdown",
   "metadata": {},
   "source": [
    "1d. Combining sets"
   ]
  },
  {
   "cell_type": "code",
   "execution_count": 7,
   "metadata": {},
   "outputs": [
    {
     "name": "stdout",
     "output_type": "stream",
     "text": [
      "{'Microsoft', 'Amazon', 'apple', 'facebook'}\n"
     ]
    }
   ],
   "source": [
    "com1_set = {\"apple\", \"facebook\"}\n",
    "com2_set = {\"Microsoft\", \"Amazon\"}\n",
    "com3_Set = com1_set.union(com2_set)\n",
    "print(com3_Set)"
   ]
  },
  {
   "cell_type": "markdown",
   "metadata": {},
   "source": [
    "1e. Update"
   ]
  },
  {
   "cell_type": "code",
   "execution_count": 8,
   "metadata": {},
   "outputs": [
    {
     "name": "stdout",
     "output_type": "stream",
     "text": [
      "{'Amazon', 'Tesla', 'facebook', 'Zoom', 'Microsoft', 'apple'}\n"
     ]
    }
   ],
   "source": [
    "com4_set = (\"Tesla\", \"Zoom\")\n",
    "com3_Set.update(com4_set)\n",
    "print(com3_Set)"
   ]
  },
  {
   "cell_type": "markdown",
   "metadata": {},
   "source": [
    "1f. Difference"
   ]
  },
  {
   "cell_type": "code",
   "execution_count": 9,
   "metadata": {},
   "outputs": [
    {
     "name": "stdout",
     "output_type": "stream",
     "text": [
      "{'Tesla', 'facebook'}\n"
     ]
    }
   ],
   "source": [
    "com1_set = {\"apple\", \"facebook\", \"Tesla\"}\n",
    "com2_set = {\"Microsoft\", \"Amazon\", \"apple\"}\n",
    "com3_set = com1_set.difference(com2_set)\n",
    "print(com3_set)"
   ]
  },
  {
   "cell_type": "code",
   "execution_count": 10,
   "metadata": {},
   "outputs": [
    {
     "name": "stdout",
     "output_type": "stream",
     "text": [
      "{'Tesla', 'facebook'}\n"
     ]
    }
   ],
   "source": [
    "com3_set = com1_set - com2_set\n",
    "print(com3_set)"
   ]
  },
  {
   "cell_type": "code",
   "execution_count": 16,
   "metadata": {},
   "outputs": [
    {
     "name": "stdout",
     "output_type": "stream",
     "text": [
      "{'facebook', 'Tesla'}\n"
     ]
    }
   ],
   "source": [
    "com1_set.difference_update(com2_set)\n",
    "print(com1_set)"
   ]
  },
  {
   "cell_type": "code",
   "execution_count": 18,
   "metadata": {},
   "outputs": [
    {
     "name": "stdout",
     "output_type": "stream",
     "text": [
      "False\n",
      "True\n"
     ]
    }
   ],
   "source": [
    "com1_set = {\"apple\", \"facebook\", \"Tesla\"}\n",
    "com2_set = {\"Microsoft\", \"Amazon\", \"apple\"}\n",
    "com3_set = {\"Microsoft\", \"Amazon\"}\n",
    "print(com1_set.isdisjoint(com2_set))\n",
    "print(com1_set.isdisjoint(com3_set))"
   ]
  },
  {
   "cell_type": "markdown",
   "metadata": {},
   "source": [
    "2a. Creating a Dictionary variable"
   ]
  },
  {
   "cell_type": "code",
   "execution_count": 23,
   "metadata": {},
   "outputs": [
    {
     "name": "stdout",
     "output_type": "stream",
     "text": [
      "{'name': 'Apple', 'traded': 'AAPL', 'year': 1976}\n"
     ]
    }
   ],
   "source": [
    "apple_dic = {\n",
    "    \"name\": \"Apple\",\n",
    "    \"traded\": \"AAPL\",\n",
    "    \"year\": 1976    \n",
    "}\n",
    "print(apple_dic)"
   ]
  },
  {
   "cell_type": "markdown",
   "metadata": {},
   "source": [
    "2b. Reading value of a key"
   ]
  },
  {
   "cell_type": "code",
   "execution_count": 24,
   "metadata": {},
   "outputs": [
    {
     "name": "stdout",
     "output_type": "stream",
     "text": [
      "Apple\n",
      "1976\n"
     ]
    }
   ],
   "source": [
    "print(apple_dic[\"name\"])\n",
    "print(apple_dic.get(\"year\"))"
   ]
  },
  {
   "cell_type": "markdown",
   "metadata": {},
   "source": [
    "2c. Adding new key and value"
   ]
  },
  {
   "cell_type": "code",
   "execution_count": 25,
   "metadata": {},
   "outputs": [
    {
     "name": "stdout",
     "output_type": "stream",
     "text": [
      "{'name': 'Apple', 'traded': 'AAPL', 'year': 1976, 'founder': ['Steve Jobs', 'Steve Wozniak', 'Ronald Wayne']}\n"
     ]
    }
   ],
   "source": [
    "apple_dic[\"founder\"] = [\"Steve Jobs\", \"Steve Wozniak\", \"Ronald Wayne\"]\n",
    "print(apple_dic)"
   ]
  },
  {
   "cell_type": "markdown",
   "metadata": {},
   "source": [
    "2d. Removing item from dictionary"
   ]
  },
  {
   "cell_type": "code",
   "execution_count": 26,
   "metadata": {},
   "outputs": [
    {
     "name": "stdout",
     "output_type": "stream",
     "text": [
      "{'name': 'Apple', 'traded': 'AAPL', 'year': 1976}\n"
     ]
    }
   ],
   "source": [
    "apple_dic.popitem()\n",
    "print(apple_dic)"
   ]
  },
  {
   "cell_type": "code",
   "execution_count": 27,
   "metadata": {},
   "outputs": [
    {
     "name": "stdout",
     "output_type": "stream",
     "text": [
      "{'name': 'Apple', 'traded': 'AAPL'}\n"
     ]
    }
   ],
   "source": [
    "del apple_dic['year'] \n",
    "print(apple_dic)"
   ]
  },
  {
   "cell_type": "markdown",
   "metadata": {},
   "source": [
    "2e. Copy"
   ]
  },
  {
   "cell_type": "code",
   "execution_count": 41,
   "metadata": {},
   "outputs": [
    {
     "name": "stdout",
     "output_type": "stream",
     "text": [
      "{'name': 'Apple', 'traded': 'AAPL', 'year': 1976, 'founder': ['Steve Jobs', 'Steve Wozniak', 'Ronald Wayne']}\n",
      "{'name': 'Apple', 'traded': 'AAPL', 'year': 1976}\n"
     ]
    }
   ],
   "source": [
    "apple_dic1 = {\n",
    "    \"name\": \"Apple\",\n",
    "    \"traded\": \"AAPL\",\n",
    "    \"year\": 1976    \n",
    "}\n",
    "apple_dic2 = apple_dic1\n",
    "apple_dic3 = apple_dic1.copy()\n",
    "apple_dic1[\"founder\"] = [\"Steve Jobs\", \"Steve Wozniak\", \"Ronald Wayne\"]\n",
    "print(apple_dic2)\n",
    "print(apple_dic3)"
   ]
  },
  {
   "cell_type": "markdown",
   "metadata": {},
   "source": [
    "2f. Clear and delete"
   ]
  },
  {
   "cell_type": "code",
   "execution_count": 42,
   "metadata": {},
   "outputs": [
    {
     "name": "stdout",
     "output_type": "stream",
     "text": [
      "None\n"
     ]
    }
   ],
   "source": [
    "print(apple_dic2.clear())"
   ]
  },
  {
   "cell_type": "code",
   "execution_count": 43,
   "metadata": {},
   "outputs": [
    {
     "name": "stdout",
     "output_type": "stream",
     "text": [
      "{'name': 'Apple', 'traded': 'AAPL', 'year': 1976}\n"
     ]
    },
    {
     "ename": "NameError",
     "evalue": "name 'apple_dic3' is not defined",
     "output_type": "error",
     "traceback": [
      "\u001b[1;31m---------------------------------------------------------------------------\u001b[0m",
      "\u001b[1;31mNameError\u001b[0m                                 Traceback (most recent call last)",
      "\u001b[1;32m<ipython-input-43-4d5d465f34cd>\u001b[0m in \u001b[0;36m<module>\u001b[1;34m\u001b[0m\n\u001b[0;32m      1\u001b[0m \u001b[0mprint\u001b[0m\u001b[1;33m(\u001b[0m\u001b[0mapple_dic3\u001b[0m\u001b[1;33m)\u001b[0m\u001b[1;33m\u001b[0m\u001b[1;33m\u001b[0m\u001b[0m\n\u001b[0;32m      2\u001b[0m \u001b[1;32mdel\u001b[0m \u001b[0mapple_dic3\u001b[0m\u001b[1;33m\u001b[0m\u001b[1;33m\u001b[0m\u001b[0m\n\u001b[1;32m----> 3\u001b[1;33m \u001b[0mprint\u001b[0m\u001b[1;33m(\u001b[0m\u001b[0mapple_dic3\u001b[0m\u001b[1;33m)\u001b[0m\u001b[1;33m\u001b[0m\u001b[1;33m\u001b[0m\u001b[0m\n\u001b[0m",
      "\u001b[1;31mNameError\u001b[0m: name 'apple_dic3' is not defined"
     ]
    }
   ],
   "source": [
    "print(apple_dic3)\n",
    "del apple_dic3\n",
    "print(apple_dic3)"
   ]
  },
  {
   "cell_type": "markdown",
   "metadata": {},
   "source": [
    "Difference between \n",
    "- List [], Ordered, mutable\n",
    "- Tuple (), Ordered, non-mutable\n",
    "- Set{}, Unordered, non-mutable (can't be changed)"
   ]
  },
  {
   "cell_type": "markdown",
   "metadata": {},
   "source": [
    "#### Workout Examples\n",
    "1. Create an set with few items and name it set1\n",
    "2. Try to delete an item from the above set by its location\n",
    "3. Create a new set name it set2\n",
    "4. Check if the set1 and set2 are mutually exclusive\n",
    "5. Create a dictionary variable with predefined keys and values\n",
    "6. Add new keys and values\n",
    "7. Delete the last key and value from the dictionary\n"
   ]
  },
  {
   "cell_type": "code",
   "execution_count": null,
   "metadata": {},
   "outputs": [],
   "source": []
  }
 ],
 "metadata": {
  "kernelspec": {
   "display_name": "Python 3",
   "language": "python",
   "name": "python3"
  },
  "language_info": {
   "codemirror_mode": {
    "name": "ipython",
    "version": 3
   },
   "file_extension": ".py",
   "mimetype": "text/x-python",
   "name": "python",
   "nbconvert_exporter": "python",
   "pygments_lexer": "ipython3",
   "version": "3.6.9"
  }
 },
 "nbformat": 4,
 "nbformat_minor": 2
}
