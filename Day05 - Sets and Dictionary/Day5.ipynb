{
 "cells": [
  {
   "cell_type": "markdown",
   "metadata": {},
   "source": [
    "#### Topics covered today are \n",
    "1. Sets\n",
    "    - Faster than list\n",
    "    - Allow use of operations such as Union and Intersect operations\n",
    "    - Unordered\n",
    "    - No Duplicates\n",
    "    - Can't accept element that is mutable like list or Dictionary\n",
    "2. Dictionary\n",
    "    - Key value Pair\n",
    "    - Unordered\n",
    "    - Accessed using keys"
   ]
  },
  {
   "cell_type": "markdown",
   "metadata": {},
   "source": [
    "1a. Creating a set variable"
   ]
  },
  {
   "cell_type": "code",
   "execution_count": 32,
   "metadata": {},
   "outputs": [
    {
     "name": "stdout",
     "output_type": "stream",
     "text": [
      "{'Apple', 'Facebook', 'Google'}\n",
      "<class 'set'>\n"
     ]
    }
   ],
   "source": [
    "set_companies = {\"Apple\", \"Google\", \"Facebook\"}\n",
    "print(set_companies)\n",
    "print(type(set_companies))"
   ]
  },
  {
   "cell_type": "markdown",
   "metadata": {},
   "source": [
    "1b. Adding an element"
   ]
  },
  {
   "cell_type": "code",
   "execution_count": 33,
   "metadata": {},
   "outputs": [
    {
     "name": "stdout",
     "output_type": "stream",
     "text": [
      "{'Apple', 'Facebook', 'Microsoft', 'Google'}\n"
     ]
    }
   ],
   "source": [
    "set_companies.add(\"Microsoft\")\n",
    "print(set_companies)"
   ]
  },
  {
   "cell_type": "code",
   "execution_count": 34,
   "metadata": {},
   "outputs": [
    {
     "name": "stdout",
     "output_type": "stream",
     "text": [
      "{'Apple', 'Facebook', 'Microsoft', 'Google'}\n"
     ]
    }
   ],
   "source": [
    "# Added only once - No Duplicates allowed\n",
    "set_companies.add(\"Microsoft\")\n",
    "print(set_companies)"
   ]
  },
  {
   "cell_type": "code",
   "execution_count": 35,
   "metadata": {},
   "outputs": [
    {
     "name": "stdout",
     "output_type": "stream",
     "text": [
      "{'Microsoft', 'Google', 'Apple', 121, 'Facebook'}\n"
     ]
    }
   ],
   "source": [
    "set_companies.add(121)\n",
    "print(set_companies)"
   ]
  },
  {
   "cell_type": "code",
   "execution_count": 36,
   "metadata": {},
   "outputs": [
    {
     "name": "stdout",
     "output_type": "stream",
     "text": [
      "{'Microsoft', 'Google', (1, 2, 3, 4), 'Apple', 121, 'Facebook'}\n"
     ]
    }
   ],
   "source": [
    "set_companies.add((1,2,3,4))\n",
    "print(set_companies)"
   ]
  },
  {
   "cell_type": "code",
   "execution_count": 37,
   "metadata": {},
   "outputs": [
    {
     "ename": "TypeError",
     "evalue": "unhashable type: 'list'",
     "output_type": "error",
     "traceback": [
      "\u001b[1;31m---------------------------------------------------------------------------\u001b[0m",
      "\u001b[1;31mTypeError\u001b[0m                                 Traceback (most recent call last)",
      "\u001b[1;32m<ipython-input-37-b80e9a9c1de7>\u001b[0m in \u001b[0;36m<module>\u001b[1;34m\u001b[0m\n\u001b[1;32m----> 1\u001b[1;33m \u001b[0mset_companies\u001b[0m\u001b[1;33m.\u001b[0m\u001b[0madd\u001b[0m\u001b[1;33m(\u001b[0m\u001b[1;33m[\u001b[0m\u001b[1;36m1\u001b[0m\u001b[1;33m,\u001b[0m\u001b[1;36m2\u001b[0m\u001b[1;33m,\u001b[0m\u001b[1;36m3\u001b[0m\u001b[1;33m,\u001b[0m\u001b[1;36m4\u001b[0m\u001b[1;33m]\u001b[0m\u001b[1;33m)\u001b[0m\u001b[1;33m\u001b[0m\u001b[1;33m\u001b[0m\u001b[0m\n\u001b[0m\u001b[0;32m      2\u001b[0m \u001b[0mprint\u001b[0m\u001b[1;33m(\u001b[0m\u001b[0mset_companies\u001b[0m\u001b[1;33m)\u001b[0m\u001b[1;33m\u001b[0m\u001b[1;33m\u001b[0m\u001b[0m\n",
      "\u001b[1;31mTypeError\u001b[0m: unhashable type: 'list'"
     ]
    }
   ],
   "source": [
    "set_companies.add([1,2,3,4])\n",
    "print(set_companies)"
   ]
  },
  {
   "cell_type": "markdown",
   "metadata": {},
   "source": [
    "1c. Removing an element - Discard, Remove and pop and their difference"
   ]
  },
  {
   "cell_type": "code",
   "execution_count": 40,
   "metadata": {},
   "outputs": [],
   "source": [
    "set_companies.discard(121)"
   ]
  },
  {
   "cell_type": "code",
   "execution_count": 39,
   "metadata": {},
   "outputs": [
    {
     "ename": "KeyError",
     "evalue": "'Tesla'",
     "output_type": "error",
     "traceback": [
      "\u001b[1;31m---------------------------------------------------------------------------\u001b[0m",
      "\u001b[1;31mKeyError\u001b[0m                                  Traceback (most recent call last)",
      "\u001b[1;32m<ipython-input-39-db97f065e8b1>\u001b[0m in \u001b[0;36m<module>\u001b[1;34m\u001b[0m\n\u001b[1;32m----> 1\u001b[1;33m \u001b[0mset_companies\u001b[0m\u001b[1;33m.\u001b[0m\u001b[0mremove\u001b[0m\u001b[1;33m(\u001b[0m\u001b[1;34m\"Tesla\"\u001b[0m\u001b[1;33m)\u001b[0m\u001b[1;33m\u001b[0m\u001b[1;33m\u001b[0m\u001b[0m\n\u001b[0m",
      "\u001b[1;31mKeyError\u001b[0m: 'Tesla'"
     ]
    }
   ],
   "source": [
    "set_companies.remove(\"Tesla\")"
   ]
  },
  {
   "cell_type": "code",
   "execution_count": 41,
   "metadata": {},
   "outputs": [
    {
     "name": "stdout",
     "output_type": "stream",
     "text": [
      "{'Microsoft', 'Google', (1, 2, 3, 4), 'Apple', 'Facebook'}\n"
     ]
    }
   ],
   "source": [
    "print(set_companies)"
   ]
  },
  {
   "cell_type": "code",
   "execution_count": 42,
   "metadata": {},
   "outputs": [
    {
     "ename": "TypeError",
     "evalue": "'set' object doesn't support item deletion",
     "output_type": "error",
     "traceback": [
      "\u001b[1;31m---------------------------------------------------------------------------\u001b[0m",
      "\u001b[1;31mTypeError\u001b[0m                                 Traceback (most recent call last)",
      "\u001b[1;32m<ipython-input-42-1768dd3481f0>\u001b[0m in \u001b[0;36m<module>\u001b[1;34m\u001b[0m\n\u001b[0;32m      1\u001b[0m \u001b[1;31m# Delete not support - as set is not ordered\u001b[0m\u001b[1;33m\u001b[0m\u001b[1;33m\u001b[0m\u001b[1;33m\u001b[0m\u001b[0m\n\u001b[1;32m----> 2\u001b[1;33m \u001b[1;32mdel\u001b[0m \u001b[0mset_companies\u001b[0m\u001b[1;33m[\u001b[0m\u001b[1;36m4\u001b[0m\u001b[1;33m]\u001b[0m\u001b[1;33m\u001b[0m\u001b[1;33m\u001b[0m\u001b[0m\n\u001b[0m",
      "\u001b[1;31mTypeError\u001b[0m: 'set' object doesn't support item deletion"
     ]
    }
   ],
   "source": [
    "# Delete not support - as set is not ordered\n",
    "del set_companies[4]"
   ]
  },
  {
   "cell_type": "code",
   "execution_count": 44,
   "metadata": {},
   "outputs": [
    {
     "name": "stdout",
     "output_type": "stream",
     "text": [
      "{'Google', (1, 2, 3, 4), 'Apple', 'Facebook'}\n"
     ]
    }
   ],
   "source": [
    "set_companies.pop()\n",
    "print(set_companies)"
   ]
  },
  {
   "cell_type": "markdown",
   "metadata": {},
   "source": [
    "1d. Combining sets"
   ]
  },
  {
   "cell_type": "code",
   "execution_count": 47,
   "metadata": {},
   "outputs": [
    {
     "name": "stdout",
     "output_type": "stream",
     "text": [
      "{'Amazon', 'facebook', 'apple', 'Microsoft'}\n"
     ]
    }
   ],
   "source": [
    "com1_set = {\"apple\", \"facebook\"}\n",
    "com2_set = {\"Microsoft\", \"Amazon\"}\n",
    "com3_Set = com1_set.union(com2_set)\n",
    "print(com3_Set)"
   ]
  },
  {
   "cell_type": "markdown",
   "metadata": {},
   "source": [
    "1e. Update"
   ]
  },
  {
   "cell_type": "code",
   "execution_count": 46,
   "metadata": {},
   "outputs": [
    {
     "name": "stdout",
     "output_type": "stream",
     "text": [
      "{'Tesla', 'facebook', 'Amazon', 'Microsoft', 'Zoom', 'apple'}\n"
     ]
    }
   ],
   "source": [
    "com4_set = (\"Tesla\", \"Zoom\", \"Amazon\")\n",
    "com3_Set.update(com4_set)\n",
    "print(com3_Set)"
   ]
  },
  {
   "cell_type": "markdown",
   "metadata": {},
   "source": [
    "1f. Difference"
   ]
  },
  {
   "cell_type": "code",
   "execution_count": 48,
   "metadata": {},
   "outputs": [
    {
     "name": "stdout",
     "output_type": "stream",
     "text": [
      "{'Tesla', 'facebook'}\n"
     ]
    }
   ],
   "source": [
    "com1_set = {\"apple\", \"facebook\", \"Tesla\"}\n",
    "com2_set = {\"Microsoft\", \"Amazon\", \"apple\"}\n",
    "com3_set = com1_set.difference(com2_set)\n",
    "print(com3_set)"
   ]
  },
  {
   "cell_type": "code",
   "execution_count": 49,
   "metadata": {},
   "outputs": [
    {
     "name": "stdout",
     "output_type": "stream",
     "text": [
      "{'Tesla', 'facebook'}\n"
     ]
    }
   ],
   "source": [
    "com3_set = com1_set - com2_set\n",
    "print(com3_set)"
   ]
  },
  {
   "cell_type": "code",
   "execution_count": 50,
   "metadata": {},
   "outputs": [
    {
     "name": "stdout",
     "output_type": "stream",
     "text": [
      "{'facebook', 'Tesla'}\n"
     ]
    }
   ],
   "source": [
    "com1_set.difference_update(com2_set)\n",
    "print(com1_set)"
   ]
  },
  {
   "cell_type": "code",
   "execution_count": 53,
   "metadata": {},
   "outputs": [
    {
     "name": "stdout",
     "output_type": "stream",
     "text": [
      "False\n",
      "True\n"
     ]
    }
   ],
   "source": [
    "com1_set = {\"apple\", \"facebook\", \"Tesla\"}\n",
    "com2_set = {\"Microsoft\", \"Amazon\", \"apple\"}\n",
    "com3_set = {\"Microsoft\", \"Amazon\"}\n",
    "print(com1_set.isdisjoint(com2_set))\n",
    "print(com1_set.isdisjoint(com3_set))"
   ]
  },
  {
   "cell_type": "code",
   "execution_count": null,
   "metadata": {},
   "outputs": [],
   "source": [
    "print(com1_set.intersection(com2_set))"
   ]
  },
  {
   "cell_type": "markdown",
   "metadata": {},
   "source": [
    "2a. Creating a Dictionary variable"
   ]
  },
  {
   "cell_type": "code",
   "execution_count": 54,
   "metadata": {},
   "outputs": [
    {
     "name": "stdout",
     "output_type": "stream",
     "text": [
      "{'name': 'Apple', 'traded': 'AAPL', 'year': 1976}\n"
     ]
    }
   ],
   "source": [
    "apple_dic = {\n",
    "    \"name\": \"Apple\",\n",
    "    \"traded\": \"AAPL\",\n",
    "    \"year\": 1976    \n",
    "}\n",
    "print(apple_dic)"
   ]
  },
  {
   "cell_type": "markdown",
   "metadata": {},
   "source": [
    "2b. Reading value of a key"
   ]
  },
  {
   "cell_type": "code",
   "execution_count": 55,
   "metadata": {},
   "outputs": [
    {
     "name": "stdout",
     "output_type": "stream",
     "text": [
      "Apple\n",
      "1976\n"
     ]
    }
   ],
   "source": [
    "print(apple_dic[\"name\"])\n",
    "print(apple_dic.get(\"year\"))"
   ]
  },
  {
   "cell_type": "markdown",
   "metadata": {},
   "source": [
    "2c. Adding new key and value"
   ]
  },
  {
   "cell_type": "code",
   "execution_count": 56,
   "metadata": {},
   "outputs": [
    {
     "name": "stdout",
     "output_type": "stream",
     "text": [
      "{'name': 'Apple', 'traded': 'AAPL', 'year': 1976, 'founder': ['Steve Jobs', 'Steve Wozniak', 'Ronald Wayne']}\n"
     ]
    }
   ],
   "source": [
    "apple_dic[\"founder\"] = [\"Steve Jobs\", \"Steve Wozniak\", \"Ronald Wayne\"]\n",
    "print(apple_dic)"
   ]
  },
  {
   "cell_type": "markdown",
   "metadata": {},
   "source": [
    "2d. Removing item from dictionary"
   ]
  },
  {
   "cell_type": "code",
   "execution_count": 57,
   "metadata": {},
   "outputs": [
    {
     "name": "stdout",
     "output_type": "stream",
     "text": [
      "{'name': 'Apple', 'traded': 'AAPL', 'year': 1976}\n"
     ]
    }
   ],
   "source": [
    "apple_dic.popitem()\n",
    "print(apple_dic)"
   ]
  },
  {
   "cell_type": "code",
   "execution_count": 58,
   "metadata": {},
   "outputs": [
    {
     "name": "stdout",
     "output_type": "stream",
     "text": [
      "{'name': 'Apple', 'traded': 'AAPL'}\n"
     ]
    }
   ],
   "source": [
    "del apple_dic['year'] \n",
    "print(apple_dic)"
   ]
  },
  {
   "cell_type": "markdown",
   "metadata": {},
   "source": [
    "2e. Copy"
   ]
  },
  {
   "cell_type": "code",
   "execution_count": 60,
   "metadata": {},
   "outputs": [
    {
     "name": "stdout",
     "output_type": "stream",
     "text": [
      "{'name': 'Apple', 'traded': 'AAPL', 'year': 1976, 'founder': ['Steve Jobs', 'Steve Wozniak', 'Ronald Wayne']}\n",
      "{'name': 'Apple', 'traded': 'AAPL', 'year': 1976}\n"
     ]
    }
   ],
   "source": [
    "apple_dic1 = {\n",
    "    \"name\": \"Apple\",\n",
    "    \"traded\": \"AAPL\",\n",
    "    \"year\": 1976    \n",
    "}\n",
    "apple_dic2 = apple_dic1\n",
    "apple_dic3 = apple_dic1.copy()\n",
    "apple_dic1[\"founder\"] = [\"Steve Jobs\", \"Steve Wozniak\", \"Ronald Wayne\"]\n",
    "print(apple_dic2)\n",
    "print(apple_dic3)"
   ]
  },
  {
   "cell_type": "markdown",
   "metadata": {},
   "source": [
    "2f. Clear and delete"
   ]
  },
  {
   "cell_type": "code",
   "execution_count": 61,
   "metadata": {},
   "outputs": [
    {
     "name": "stdout",
     "output_type": "stream",
     "text": [
      "None\n"
     ]
    }
   ],
   "source": [
    "print(apple_dic2.clear())"
   ]
  },
  {
   "cell_type": "code",
   "execution_count": 62,
   "metadata": {},
   "outputs": [
    {
     "name": "stdout",
     "output_type": "stream",
     "text": [
      "{'name': 'Apple', 'traded': 'AAPL', 'year': 1976}\n"
     ]
    },
    {
     "ename": "NameError",
     "evalue": "name 'apple_dic3' is not defined",
     "output_type": "error",
     "traceback": [
      "\u001b[1;31m---------------------------------------------------------------------------\u001b[0m",
      "\u001b[1;31mNameError\u001b[0m                                 Traceback (most recent call last)",
      "\u001b[1;32m<ipython-input-62-4d5d465f34cd>\u001b[0m in \u001b[0;36m<module>\u001b[1;34m\u001b[0m\n\u001b[0;32m      1\u001b[0m \u001b[0mprint\u001b[0m\u001b[1;33m(\u001b[0m\u001b[0mapple_dic3\u001b[0m\u001b[1;33m)\u001b[0m\u001b[1;33m\u001b[0m\u001b[1;33m\u001b[0m\u001b[0m\n\u001b[0;32m      2\u001b[0m \u001b[1;32mdel\u001b[0m \u001b[0mapple_dic3\u001b[0m\u001b[1;33m\u001b[0m\u001b[1;33m\u001b[0m\u001b[0m\n\u001b[1;32m----> 3\u001b[1;33m \u001b[0mprint\u001b[0m\u001b[1;33m(\u001b[0m\u001b[0mapple_dic3\u001b[0m\u001b[1;33m)\u001b[0m\u001b[1;33m\u001b[0m\u001b[1;33m\u001b[0m\u001b[0m\n\u001b[0m",
      "\u001b[1;31mNameError\u001b[0m: name 'apple_dic3' is not defined"
     ]
    }
   ],
   "source": [
    "print(apple_dic3)\n",
    "del apple_dic3\n",
    "print(apple_dic3)"
   ]
  },
  {
   "cell_type": "markdown",
   "metadata": {},
   "source": [
    "Difference between \n",
    "- List [], Ordered, mutable\n",
    "- Tuple (), Ordered, non-mutable\n",
    "- Set{}, Unordered, non-mutable (can't be changed)"
   ]
  },
  {
   "cell_type": "markdown",
   "metadata": {},
   "source": [
    "#### Workout Examples\n",
    "1. Create an set with few items and name it set1\n",
    "2. Try to delete an item from the above set by its location\n",
    "3. Create a new set name it set2\n",
    "4. Check if the set1 and set2 are mutually exclusive\n",
    "5. Create a dictionary variable with predefined keys and values\n",
    "6. Add new keys and values\n",
    "7. Delete the last key and value from the dictionary\n"
   ]
  }
 ],
 "metadata": {
  "kernelspec": {
   "display_name": "Python 3",
   "language": "python",
   "name": "python3"
  },
  "language_info": {
   "codemirror_mode": {
    "name": "ipython",
    "version": 3
   },
   "file_extension": ".py",
   "mimetype": "text/x-python",
   "name": "python",
   "nbconvert_exporter": "python",
   "pygments_lexer": "ipython3",
   "version": "3.8.5"
  }
 },
 "nbformat": 4,
 "nbformat_minor": 2
}
