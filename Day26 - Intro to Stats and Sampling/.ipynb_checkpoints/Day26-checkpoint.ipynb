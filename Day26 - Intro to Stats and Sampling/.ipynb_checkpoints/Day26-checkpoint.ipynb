{
 "cells": [
  {
   "cell_type": "markdown",
   "metadata": {},
   "source": [
    "#### Topics Covered today\n",
    "- Introduction on how stats used in a Data Science project\n",
    "- Probability and Non-Probability Sampling\n",
    "- Examples of probability Based Sampling"
   ]
  },
  {
   "cell_type": "code",
   "execution_count": 51,
   "metadata": {},
   "outputs": [],
   "source": [
    "import pandas as pd\n",
    "import numpy as np"
   ]
  },
  {
   "cell_type": "code",
   "execution_count": 52,
   "metadata": {},
   "outputs": [
    {
     "name": "stdout",
     "output_type": "stream",
     "text": [
      "   ID  Zone  Weight\n",
      "0   1     5      15\n",
      "1   2     5      17\n",
      "2   3     5      16\n",
      "3   4     5      12\n",
      "4   5     1      19\n",
      "Original Mean:  17.5093\n"
     ]
    }
   ],
   "source": [
    "original_data = pd.read_csv('../Data/ForSampling.csv')\n",
    "print(original_data.head())\n",
    "original_mean = original_data.Weight.mean()\n",
    "print(\"Original Mean: \", original_mean)"
   ]
  },
  {
   "cell_type": "markdown",
   "metadata": {},
   "source": [
    "Simple Random Sample"
   ]
  },
  {
   "cell_type": "code",
   "execution_count": 53,
   "metadata": {},
   "outputs": [
    {
     "name": "stdout",
     "output_type": "stream",
     "text": [
      "Simple Random Mean:  17.86\n"
     ]
    }
   ],
   "source": [
    "# Creating a random sample with 'n' rows\n",
    "simple_random_sample = original_data.sample(n=150).sort_values(by='ID')\n",
    "# Calculating the mean for the sample\n",
    "simple_random_mean = round(simple_random_sample['Weight'].mean(), 2)\n",
    "print(\"Simple Random Mean: \", simple_random_mean)"
   ]
  },
  {
   "cell_type": "markdown",
   "metadata": {},
   "source": [
    "Systematic Sampling"
   ]
  },
  {
   "cell_type": "code",
   "execution_count": 54,
   "metadata": {},
   "outputs": [
    {
     "name": "stdout",
     "output_type": "stream",
     "text": [
      "Systematic Sample Mean:  18.06\n"
     ]
    }
   ],
   "source": [
    "# Selects every 7th element\n",
    "systematic_sample = original_data[original_data.index % 67 == 0]\n",
    "# Calculating the mean for the sample\n",
    "systematic_sample_mean = round(systematic_sample['Weight'].mean(), 2)\n",
    "print(\"Systematic Sample Mean: \", systematic_sample_mean)"
   ]
  },
  {
   "cell_type": "markdown",
   "metadata": {},
   "source": [
    "Cluster Sample Mean"
   ]
  },
  {
   "cell_type": "code",
   "execution_count": 55,
   "metadata": {},
   "outputs": [
    {
     "data": {
      "text/html": [
       "<div>\n",
       "<style scoped>\n",
       "    .dataframe tbody tr th:only-of-type {\n",
       "        vertical-align: middle;\n",
       "    }\n",
       "\n",
       "    .dataframe tbody tr th {\n",
       "        vertical-align: top;\n",
       "    }\n",
       "\n",
       "    .dataframe thead th {\n",
       "        text-align: right;\n",
       "    }\n",
       "</style>\n",
       "<table border=\"1\" class=\"dataframe\">\n",
       "  <thead>\n",
       "    <tr style=\"text-align: right;\">\n",
       "      <th></th>\n",
       "      <th>ID</th>\n",
       "      <th>Zone</th>\n",
       "      <th>Weight</th>\n",
       "      <th>Group_id</th>\n",
       "    </tr>\n",
       "  </thead>\n",
       "  <tbody>\n",
       "    <tr>\n",
       "      <th>9995</th>\n",
       "      <td>9996</td>\n",
       "      <td>1</td>\n",
       "      <td>21</td>\n",
       "      <td>100</td>\n",
       "    </tr>\n",
       "    <tr>\n",
       "      <th>9996</th>\n",
       "      <td>9997</td>\n",
       "      <td>2</td>\n",
       "      <td>13</td>\n",
       "      <td>100</td>\n",
       "    </tr>\n",
       "    <tr>\n",
       "      <th>9997</th>\n",
       "      <td>9998</td>\n",
       "      <td>5</td>\n",
       "      <td>14</td>\n",
       "      <td>100</td>\n",
       "    </tr>\n",
       "    <tr>\n",
       "      <th>9998</th>\n",
       "      <td>9999</td>\n",
       "      <td>2</td>\n",
       "      <td>25</td>\n",
       "      <td>100</td>\n",
       "    </tr>\n",
       "    <tr>\n",
       "      <th>9999</th>\n",
       "      <td>10000</td>\n",
       "      <td>2</td>\n",
       "      <td>22</td>\n",
       "      <td>100</td>\n",
       "    </tr>\n",
       "  </tbody>\n",
       "</table>\n",
       "</div>"
      ],
      "text/plain": [
       "         ID  Zone  Weight  Group_id\n",
       "9995   9996     1      21       100\n",
       "9996   9997     2      13       100\n",
       "9997   9998     5      14       100\n",
       "9998   9999     2      25       100\n",
       "9999  10000     2      22       100"
      ]
     },
     "execution_count": 55,
     "metadata": {},
     "output_type": "execute_result"
    }
   ],
   "source": [
    "group_size = 100\n",
    "cluster_sample = original_data\n",
    "cluster_sample['Group_id'] = np.repeat([range(1,group_size+1)],len(cluster_sample)/group_size)\n",
    "cluster_sample.tail()"
   ]
  },
  {
   "cell_type": "code",
   "execution_count": 56,
   "metadata": {},
   "outputs": [
    {
     "name": "stdout",
     "output_type": "stream",
     "text": [
      "Cluster Sample Mean:  17.88\n"
     ]
    }
   ],
   "source": [
    "cluster_sample_selection = cluster_sample[cluster_sample.Group_id % 41 == 0]\n",
    "# Calculating the mean for the sample\n",
    "cluster_sample_selection_mean = round(cluster_sample_selection['Weight'].mean(), 2)\n",
    "print(\"Cluster Sample Mean: \", cluster_sample_selection_mean)"
   ]
  },
  {
   "cell_type": "markdown",
   "metadata": {},
   "source": [
    "Multi-Stage Cluster Mean??"
   ]
  },
  {
   "cell_type": "markdown",
   "metadata": {},
   "source": [
    "Stratified Sampling"
   ]
  },
  {
   "cell_type": "code",
   "execution_count": 57,
   "metadata": {},
   "outputs": [
    {
     "data": {
      "text/html": [
       "<div>\n",
       "<style scoped>\n",
       "    .dataframe tbody tr th:only-of-type {\n",
       "        vertical-align: middle;\n",
       "    }\n",
       "\n",
       "    .dataframe tbody tr th {\n",
       "        vertical-align: top;\n",
       "    }\n",
       "\n",
       "    .dataframe thead th {\n",
       "        text-align: right;\n",
       "    }\n",
       "</style>\n",
       "<table border=\"1\" class=\"dataframe\">\n",
       "  <thead>\n",
       "    <tr style=\"text-align: right;\">\n",
       "      <th></th>\n",
       "      <th>ID</th>\n",
       "      <th>Zone</th>\n",
       "      <th>Weight</th>\n",
       "      <th>Group_id</th>\n",
       "    </tr>\n",
       "  </thead>\n",
       "  <tbody>\n",
       "    <tr>\n",
       "      <th>0</th>\n",
       "      <td>1</td>\n",
       "      <td>5</td>\n",
       "      <td>15</td>\n",
       "      <td>1</td>\n",
       "    </tr>\n",
       "    <tr>\n",
       "      <th>1</th>\n",
       "      <td>2</td>\n",
       "      <td>5</td>\n",
       "      <td>17</td>\n",
       "      <td>1</td>\n",
       "    </tr>\n",
       "    <tr>\n",
       "      <th>2</th>\n",
       "      <td>3</td>\n",
       "      <td>5</td>\n",
       "      <td>16</td>\n",
       "      <td>1</td>\n",
       "    </tr>\n",
       "    <tr>\n",
       "      <th>3</th>\n",
       "      <td>4</td>\n",
       "      <td>5</td>\n",
       "      <td>12</td>\n",
       "      <td>1</td>\n",
       "    </tr>\n",
       "    <tr>\n",
       "      <th>4</th>\n",
       "      <td>5</td>\n",
       "      <td>1</td>\n",
       "      <td>19</td>\n",
       "      <td>1</td>\n",
       "    </tr>\n",
       "  </tbody>\n",
       "</table>\n",
       "</div>"
      ],
      "text/plain": [
       "   ID  Zone  Weight  Group_id\n",
       "0   1     5      15         1\n",
       "1   2     5      17         1\n",
       "2   3     5      16         1\n",
       "3   4     5      12         1\n",
       "4   5     1      19         1"
      ]
     },
     "execution_count": 57,
     "metadata": {},
     "output_type": "execute_result"
    }
   ],
   "source": [
    "original_data.head()"
   ]
  },
  {
   "cell_type": "code",
   "execution_count": 84,
   "metadata": {},
   "outputs": [
    {
     "name": "stdout",
     "output_type": "stream",
     "text": [
      "Stratefied Sample Mean:  17.84\n"
     ]
    }
   ],
   "source": [
    "N = 150\n",
    "strat_sample = original_data.groupby('Zone', group_keys=False).apply(lambda x: x.sample(int(np.rint(N*len(x)/len(original_data))))).sample(frac=1).reset_index(drop=True)\n",
    "\n",
    "# Calculating the mean for the sample\n",
    "strat_sample_mean = round(strat_sample['Weight'].mean(), 2)\n",
    "print(\"Stratefied Sample Mean: \", strat_sample_mean)"
   ]
  },
  {
   "cell_type": "markdown",
   "metadata": {},
   "source": [
    "Checking sample selection in stratified Sampling Method"
   ]
  },
  {
   "cell_type": "code",
   "execution_count": 96,
   "metadata": {},
   "outputs": [
    {
     "name": "stdout",
     "output_type": "stream",
     "text": [
      "      Count_x  Original Distribution  Count_y  Sample Distribution\n",
      "Zone                                                              \n",
      "1        1962                   20.0       29                 19.0\n",
      "2        1975                   20.0       30                 20.0\n",
      "3        1994                   20.0       30                 20.0\n",
      "4        1926                   19.0       29                 19.0\n",
      "5        2143                   21.0       32                 21.0\n"
     ]
    }
   ],
   "source": [
    "#Original Data Distribution\n",
    "zone_dist = original_data.groupby('Zone').ID.count()\n",
    "z1 = pd.DataFrame(zone_dist)\n",
    "z1.columns = ['Count']\n",
    "z1['Original Distribution'] = np.around((z1['Count']/len(original_data)), 2)*100\n",
    "\n",
    "#Stratefied Sample Data Distribution\n",
    "zone_dist_strat = strat_sample.groupby('Zone').ID.count()\n",
    "z2 = pd.DataFrame(zone_dist_strat)\n",
    "z2.columns = ['Count']\n",
    "z2['Sample Distribution'] = np.around((z2['Count']/len(strat_sample)), 2)*100\n",
    "\n",
    "#Merging Both\n",
    "combined = pd.merge(z1, z2, on='Zone')\n",
    "print(combined.head())"
   ]
  },
  {
   "cell_type": "code",
   "execution_count": null,
   "metadata": {},
   "outputs": [],
   "source": []
  }
 ],
 "metadata": {
  "kernelspec": {
   "display_name": "Python 3",
   "language": "python",
   "name": "python3"
  },
  "language_info": {
   "codemirror_mode": {
    "name": "ipython",
    "version": 3
   },
   "file_extension": ".py",
   "mimetype": "text/x-python",
   "name": "python",
   "nbconvert_exporter": "python",
   "pygments_lexer": "ipython3",
   "version": "3.8.5"
  }
 },
 "nbformat": 4,
 "nbformat_minor": 4
}
