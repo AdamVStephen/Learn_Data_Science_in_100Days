{
 "cells": [
  {
   "cell_type": "markdown",
   "metadata": {},
   "source": [
    "#### Topics to be covered\n",
    "- Aggregations and Group by"
   ]
  },
  {
   "cell_type": "code",
   "execution_count": 1,
   "metadata": {},
   "outputs": [
    {
     "data": {
      "text/html": [
       "<div>\n",
       "<style scoped>\n",
       "    .dataframe tbody tr th:only-of-type {\n",
       "        vertical-align: middle;\n",
       "    }\n",
       "\n",
       "    .dataframe tbody tr th {\n",
       "        vertical-align: top;\n",
       "    }\n",
       "\n",
       "    .dataframe thead th {\n",
       "        text-align: right;\n",
       "    }\n",
       "</style>\n",
       "<table border=\"1\" class=\"dataframe\">\n",
       "  <thead>\n",
       "    <tr style=\"text-align: right;\">\n",
       "      <th></th>\n",
       "      <th>Week</th>\n",
       "      <th>eLearning</th>\n",
       "      <th>DataScience</th>\n",
       "      <th>MachineLearning</th>\n",
       "      <th>ArtificialIntelligence</th>\n",
       "      <th>DeepLearning</th>\n",
       "    </tr>\n",
       "  </thead>\n",
       "  <tbody>\n",
       "    <tr>\n",
       "      <th>0</th>\n",
       "      <td>20/09/2015</td>\n",
       "      <td>32</td>\n",
       "      <td>9</td>\n",
       "      <td>11</td>\n",
       "      <td>11</td>\n",
       "      <td>4</td>\n",
       "    </tr>\n",
       "    <tr>\n",
       "      <th>1</th>\n",
       "      <td>27/09/2015</td>\n",
       "      <td>35</td>\n",
       "      <td>10</td>\n",
       "      <td>11</td>\n",
       "      <td>11</td>\n",
       "      <td>4</td>\n",
       "    </tr>\n",
       "    <tr>\n",
       "      <th>2</th>\n",
       "      <td>4/10/2015</td>\n",
       "      <td>38</td>\n",
       "      <td>10</td>\n",
       "      <td>12</td>\n",
       "      <td>11</td>\n",
       "      <td>4</td>\n",
       "    </tr>\n",
       "    <tr>\n",
       "      <th>3</th>\n",
       "      <td>11/10/2015</td>\n",
       "      <td>37</td>\n",
       "      <td>9</td>\n",
       "      <td>12</td>\n",
       "      <td>10</td>\n",
       "      <td>4</td>\n",
       "    </tr>\n",
       "    <tr>\n",
       "      <th>4</th>\n",
       "      <td>18/10/2015</td>\n",
       "      <td>38</td>\n",
       "      <td>9</td>\n",
       "      <td>12</td>\n",
       "      <td>10</td>\n",
       "      <td>4</td>\n",
       "    </tr>\n",
       "  </tbody>\n",
       "</table>\n",
       "</div>"
      ],
      "text/plain": [
       "         Week  eLearning  DataScience  MachineLearning  \\\n",
       "0  20/09/2015         32            9               11   \n",
       "1  27/09/2015         35           10               11   \n",
       "2   4/10/2015         38           10               12   \n",
       "3  11/10/2015         37            9               12   \n",
       "4  18/10/2015         38            9               12   \n",
       "\n",
       "   ArtificialIntelligence  DeepLearning  \n",
       "0                      11             4  \n",
       "1                      11             4  \n",
       "2                      11             4  \n",
       "3                      10             4  \n",
       "4                      10             4  "
      ]
     },
     "execution_count": 1,
     "metadata": {},
     "output_type": "execute_result"
    }
   ],
   "source": [
    "#import pandas library and provide alias name as pd\n",
    "import pandas as pd\n",
    "import numpy as np\n",
    "\n",
    "trend_data = pd.read_csv('Data/SearchTrendData.csv')\n",
    "trend_data.head()"
   ]
  },
  {
   "cell_type": "code",
   "execution_count": 3,
   "metadata": {},
   "outputs": [
    {
     "name": "stdout",
     "output_type": "stream",
     "text": [
      "         Week  eLearning  DataScience  MachineLearning  \\\n",
      "0  12/07/2020         58           36               40   \n",
      "1  19/07/2020         55           36               40   \n",
      "2  26/07/2020         43           34               39   \n",
      "3   2/08/2020         44           34               37   \n",
      "4   9/08/2020         44           35               38   \n",
      "5  16/08/2020         41           36               40   \n",
      "6  23/08/2020         49           39               40   \n",
      "7  30/08/2020         62           37               40   \n",
      "8   6/09/2020         74           38               42   \n",
      "9  13/09/2020         80           39               39   \n",
      "\n",
      "   ArtificialIntelligence  DeepLearning  \n",
      "0                      21            15  \n",
      "1                      21            14  \n",
      "2                      20            14  \n",
      "3                      20            13  \n",
      "4                      21            13  \n",
      "5                      22            14  \n",
      "6                      21            14  \n",
      "7                      21            14  \n",
      "8                      24            14  \n",
      "9                      21            14  \n"
     ]
    }
   ],
   "source": [
    "t_data = trend_data[-10:]\n",
    "t_data = t_data.reset_index(drop=True) # For resetting index\n",
    "print(t_data)"
   ]
  },
  {
   "cell_type": "markdown",
   "metadata": {},
   "source": [
    "1a Aggregate - Moving Average"
   ]
  },
  {
   "cell_type": "code",
   "execution_count": 7,
   "metadata": {},
   "outputs": [
    {
     "name": "stdout",
     "output_type": "stream",
     "text": [
      "   eLearning  DataScience  MachineLearning  ArtificialIntelligence  \\\n",
      "0        NaN          NaN              NaN                     NaN   \n",
      "1        NaN          NaN              NaN                     NaN   \n",
      "2       58.0         36.0             40.0                    21.0   \n",
      "3       55.0         36.0             40.0                    21.0   \n",
      "4       44.0         35.0             39.0                    21.0   \n",
      "5       44.0         36.0             40.0                    22.0   \n",
      "6       49.0         39.0             40.0                    22.0   \n",
      "7       62.0         39.0             40.0                    22.0   \n",
      "8       74.0         39.0             42.0                    24.0   \n",
      "9       80.0         39.0             42.0                    24.0   \n",
      "\n",
      "   DeepLearning  \n",
      "0           NaN  \n",
      "1           NaN  \n",
      "2          15.0  \n",
      "3          14.0  \n",
      "4          14.0  \n",
      "5          14.0  \n",
      "6          14.0  \n",
      "7          14.0  \n",
      "8          14.0  \n",
      "9          14.0  \n"
     ]
    }
   ],
   "source": [
    "moving_average = t_data.rolling(window=3,min_periods=3) # Try changing the minimum period\n",
    "print(moving_average.aggregate(np.max)) # Moving Average"
   ]
  },
  {
   "cell_type": "markdown",
   "metadata": {},
   "source": [
    "1b. Moving Average for selective column"
   ]
  },
  {
   "cell_type": "code",
   "execution_count": 8,
   "metadata": {},
   "outputs": [
    {
     "name": "stdout",
     "output_type": "stream",
     "text": [
      "0    36.000000\n",
      "1    36.000000\n",
      "2    35.333333\n",
      "3    34.666667\n",
      "4    34.333333\n",
      "5    35.000000\n",
      "6    36.666667\n",
      "7    37.333333\n",
      "8    38.000000\n",
      "9    38.000000\n",
      "Name: DataScience, dtype: float64\n"
     ]
    }
   ],
   "source": [
    "moving_average_DS = t_data.rolling(window=3,min_periods=1)\n",
    "print(moving_average_DS['DataScience'].aggregate(np.mean))\n"
   ]
  },
  {
   "cell_type": "markdown",
   "metadata": {},
   "source": [
    "1c. Finding max in the moving window"
   ]
  },
  {
   "cell_type": "code",
   "execution_count": 9,
   "metadata": {},
   "outputs": [
    {
     "name": "stdout",
     "output_type": "stream",
     "text": [
      "0    36.0\n",
      "1    36.0\n",
      "2    36.0\n",
      "3    36.0\n",
      "4    35.0\n",
      "5    36.0\n",
      "6    39.0\n",
      "7    39.0\n",
      "8    39.0\n",
      "9    39.0\n",
      "Name: DataScience, dtype: float64\n"
     ]
    }
   ],
   "source": [
    "moving_average_DS = t_data.rolling(window=3,min_periods=1)\n",
    "print(moving_average_DS['DataScience'].aggregate(np.max))"
   ]
  },
  {
   "cell_type": "markdown",
   "metadata": {},
   "source": [
    "1d. Standard Deviation and Variance"
   ]
  },
  {
   "cell_type": "code",
   "execution_count": 11,
   "metadata": {},
   "outputs": [
    {
     "name": "stdout",
     "output_type": "stream",
     "text": [
      "0         NaN\n",
      "1    0.000000\n",
      "2    1.333333\n",
      "3    1.333333\n",
      "4    0.333333\n",
      "5    1.000000\n",
      "6    4.333333\n",
      "7    2.333333\n",
      "8    1.000000\n",
      "9    1.000000\n",
      "Name: DataScience, dtype: float64\n"
     ]
    }
   ],
   "source": [
    "moving_average_DS = t_data.rolling(window=3,min_periods=1)\n",
    "#print(moving_average_DS['DataScience'].aggregate(np.std))\n",
    "print(moving_average_DS['DataScience'].aggregate(np.var))"
   ]
  },
  {
   "cell_type": "markdown",
   "metadata": {},
   "source": [
    "1e. Aggregation on multiple columns"
   ]
  },
  {
   "cell_type": "code",
   "execution_count": 12,
   "metadata": {},
   "outputs": [
    {
     "name": "stdout",
     "output_type": "stream",
     "text": [
      "   DataScience  MachineLearning\n",
      "0    36.000000        40.000000\n",
      "1    36.000000        40.000000\n",
      "2    35.333333        39.666667\n",
      "3    34.666667        38.666667\n",
      "4    34.333333        38.000000\n",
      "5    35.000000        38.333333\n",
      "6    36.666667        39.333333\n",
      "7    37.333333        40.000000\n",
      "8    38.000000        40.666667\n",
      "9    38.000000        40.333333\n"
     ]
    }
   ],
   "source": [
    "moving_average_DS = t_data.rolling(window=3,min_periods=1)\n",
    "print(moving_average_DS[['DataScience','MachineLearning']].aggregate(np.mean))"
   ]
  },
  {
   "cell_type": "markdown",
   "metadata": {},
   "source": [
    "1e. Using multiple functions"
   ]
  },
  {
   "cell_type": "code",
   "execution_count": 14,
   "metadata": {},
   "outputs": [
    {
     "name": "stdout",
     "output_type": "stream",
     "text": [
      "  DataScience             MachineLearning            \n",
      "         mean  amin  amax            mean  amin  amax\n",
      "0         NaN   NaN   NaN             NaN   NaN   NaN\n",
      "1         NaN   NaN   NaN             NaN   NaN   NaN\n",
      "2   35.333333  34.0  36.0       39.666667  39.0  40.0\n",
      "3   34.666667  34.0  36.0       38.666667  37.0  40.0\n",
      "4   34.333333  34.0  35.0       38.000000  37.0  39.0\n",
      "5   35.000000  34.0  36.0       38.333333  37.0  40.0\n",
      "6   36.666667  35.0  39.0       39.333333  38.0  40.0\n",
      "7   37.333333  36.0  39.0       40.000000  40.0  40.0\n",
      "8   38.000000  37.0  39.0       40.666667  40.0  42.0\n",
      "9   38.000000  37.0  39.0       40.333333  39.0  42.0\n"
     ]
    }
   ],
   "source": [
    "moving_average_DS = t_data.rolling(window=3,min_periods=3)\n",
    "print(moving_average_DS[['DataScience','MachineLearning']].aggregate([np.mean,np.min, np.max]))"
   ]
  },
  {
   "cell_type": "code",
   "execution_count": 15,
   "metadata": {},
   "outputs": [
    {
     "data": {
      "text/html": [
       "<div>\n",
       "<style scoped>\n",
       "    .dataframe tbody tr th:only-of-type {\n",
       "        vertical-align: middle;\n",
       "    }\n",
       "\n",
       "    .dataframe tbody tr th {\n",
       "        vertical-align: top;\n",
       "    }\n",
       "\n",
       "    .dataframe thead th {\n",
       "        text-align: right;\n",
       "    }\n",
       "</style>\n",
       "<table border=\"1\" class=\"dataframe\">\n",
       "  <thead>\n",
       "    <tr style=\"text-align: right;\">\n",
       "      <th></th>\n",
       "      <th>Week</th>\n",
       "      <th>eLearning</th>\n",
       "      <th>DataScience</th>\n",
       "      <th>MachineLearning</th>\n",
       "      <th>ArtificialIntelligence</th>\n",
       "      <th>DeepLearning</th>\n",
       "      <th>Year</th>\n",
       "      <th>Month</th>\n",
       "    </tr>\n",
       "  </thead>\n",
       "  <tbody>\n",
       "    <tr>\n",
       "      <th>0</th>\n",
       "      <td>20/09/2015</td>\n",
       "      <td>32</td>\n",
       "      <td>9</td>\n",
       "      <td>11</td>\n",
       "      <td>11</td>\n",
       "      <td>4</td>\n",
       "      <td>2015</td>\n",
       "      <td>09</td>\n",
       "    </tr>\n",
       "    <tr>\n",
       "      <th>1</th>\n",
       "      <td>27/09/2015</td>\n",
       "      <td>35</td>\n",
       "      <td>10</td>\n",
       "      <td>11</td>\n",
       "      <td>11</td>\n",
       "      <td>4</td>\n",
       "      <td>2015</td>\n",
       "      <td>09</td>\n",
       "    </tr>\n",
       "    <tr>\n",
       "      <th>2</th>\n",
       "      <td>4/10/2015</td>\n",
       "      <td>38</td>\n",
       "      <td>10</td>\n",
       "      <td>12</td>\n",
       "      <td>11</td>\n",
       "      <td>4</td>\n",
       "      <td>2015</td>\n",
       "      <td>10</td>\n",
       "    </tr>\n",
       "    <tr>\n",
       "      <th>3</th>\n",
       "      <td>11/10/2015</td>\n",
       "      <td>37</td>\n",
       "      <td>9</td>\n",
       "      <td>12</td>\n",
       "      <td>10</td>\n",
       "      <td>4</td>\n",
       "      <td>2015</td>\n",
       "      <td>10</td>\n",
       "    </tr>\n",
       "    <tr>\n",
       "      <th>4</th>\n",
       "      <td>18/10/2015</td>\n",
       "      <td>38</td>\n",
       "      <td>9</td>\n",
       "      <td>12</td>\n",
       "      <td>10</td>\n",
       "      <td>4</td>\n",
       "      <td>2015</td>\n",
       "      <td>10</td>\n",
       "    </tr>\n",
       "  </tbody>\n",
       "</table>\n",
       "</div>"
      ],
      "text/plain": [
       "         Week  eLearning  DataScience  MachineLearning  \\\n",
       "0  20/09/2015         32            9               11   \n",
       "1  27/09/2015         35           10               11   \n",
       "2   4/10/2015         38           10               12   \n",
       "3  11/10/2015         37            9               12   \n",
       "4  18/10/2015         38            9               12   \n",
       "\n",
       "   ArtificialIntelligence  DeepLearning  Year Month  \n",
       "0                      11             4  2015    09  \n",
       "1                      11             4  2015    09  \n",
       "2                      11             4  2015    10  \n",
       "3                      10             4  2015    10  \n",
       "4                      10             4  2015    10  "
      ]
     },
     "execution_count": 15,
     "metadata": {},
     "output_type": "execute_result"
    }
   ],
   "source": [
    "trend_data['Year'] = trend_data['Week'].str.strip().str[-4:] \n",
    "# We covered this in Day 2 - Operation on a string and we are creating a new column\n",
    "trend_data['Month'] = trend_data['Week'].str.strip().str[-7:-5] \n",
    "trend_data.head()"
   ]
  },
  {
   "cell_type": "markdown",
   "metadata": {},
   "source": [
    "2a. Performing Group by"
   ]
  },
  {
   "cell_type": "code",
   "execution_count": 16,
   "metadata": {},
   "outputs": [
    {
     "data": {
      "text/plain": [
       "Year\n",
       "2015     8.800000\n",
       "2016    11.000000\n",
       "2017    17.094340\n",
       "2018    22.942308\n",
       "2019    30.653846\n",
       "2020    34.486486\n",
       "Name: DataScience, dtype: float64"
      ]
     },
     "execution_count": 16,
     "metadata": {},
     "output_type": "execute_result"
    }
   ],
   "source": [
    "trend_data.groupby('Year').DataScience.mean()"
   ]
  },
  {
   "cell_type": "markdown",
   "metadata": {},
   "source": [
    "2b. Using group along with Lambda function that we learned in Day7"
   ]
  },
  {
   "cell_type": "code",
   "execution_count": 17,
   "metadata": {},
   "outputs": [
    {
     "data": {
      "text/html": [
       "<div>\n",
       "<style scoped>\n",
       "    .dataframe tbody tr th:only-of-type {\n",
       "        vertical-align: middle;\n",
       "    }\n",
       "\n",
       "    .dataframe tbody tr th {\n",
       "        vertical-align: top;\n",
       "    }\n",
       "\n",
       "    .dataframe thead th {\n",
       "        text-align: right;\n",
       "    }\n",
       "</style>\n",
       "<table border=\"1\" class=\"dataframe\">\n",
       "  <thead>\n",
       "    <tr style=\"text-align: right;\">\n",
       "      <th></th>\n",
       "      <th>eLearning</th>\n",
       "      <th>DataScience</th>\n",
       "      <th>MachineLearning</th>\n",
       "      <th>ArtificialIntelligence</th>\n",
       "      <th>DeepLearning</th>\n",
       "      <th>Year</th>\n",
       "      <th>Month</th>\n",
       "    </tr>\n",
       "    <tr>\n",
       "      <th>Year</th>\n",
       "      <th></th>\n",
       "      <th></th>\n",
       "      <th></th>\n",
       "      <th></th>\n",
       "      <th></th>\n",
       "      <th></th>\n",
       "      <th></th>\n",
       "    </tr>\n",
       "  </thead>\n",
       "  <tbody>\n",
       "    <tr>\n",
       "      <th>2015</th>\n",
       "      <td>32.533333</td>\n",
       "      <td>8.800000</td>\n",
       "      <td>12.200000</td>\n",
       "      <td>10.733333</td>\n",
       "      <td>4.066667</td>\n",
       "      <td>1.343468e+58</td>\n",
       "      <td>6.060673e+27</td>\n",
       "    </tr>\n",
       "    <tr>\n",
       "      <th>2016</th>\n",
       "      <td>26.500000</td>\n",
       "      <td>11.000000</td>\n",
       "      <td>15.865385</td>\n",
       "      <td>11.826923</td>\n",
       "      <td>6.692308</td>\n",
       "      <td>3.877311e+205</td>\n",
       "      <td>1.942502e+100</td>\n",
       "    </tr>\n",
       "    <tr>\n",
       "      <th>2017</th>\n",
       "      <td>26.075472</td>\n",
       "      <td>17.094340</td>\n",
       "      <td>28.660377</td>\n",
       "      <td>18.094340</td>\n",
       "      <td>12.150943</td>\n",
       "      <td>3.806041e+209</td>\n",
       "      <td>1.905851e+102</td>\n",
       "    </tr>\n",
       "    <tr>\n",
       "      <th>2018</th>\n",
       "      <td>30.269231</td>\n",
       "      <td>22.942308</td>\n",
       "      <td>36.500000</td>\n",
       "      <td>22.000000</td>\n",
       "      <td>14.173077</td>\n",
       "      <td>3.881157e+205</td>\n",
       "      <td>1.942502e+100</td>\n",
       "    </tr>\n",
       "    <tr>\n",
       "      <th>2019</th>\n",
       "      <td>35.519231</td>\n",
       "      <td>30.653846</td>\n",
       "      <td>40.730769</td>\n",
       "      <td>22.865385</td>\n",
       "      <td>14.538462</td>\n",
       "      <td>3.883081e+205</td>\n",
       "      <td>1.942502e+100</td>\n",
       "    </tr>\n",
       "    <tr>\n",
       "      <th>2020</th>\n",
       "      <td>61.594595</td>\n",
       "      <td>34.486486</td>\n",
       "      <td>40.351351</td>\n",
       "      <td>21.783784</td>\n",
       "      <td>14.297297</td>\n",
       "      <td>5.460005e+145</td>\n",
       "      <td>2.730003e+70</td>\n",
       "    </tr>\n",
       "  </tbody>\n",
       "</table>\n",
       "</div>"
      ],
      "text/plain": [
       "      eLearning  DataScience  MachineLearning  ArtificialIntelligence  \\\n",
       "Year                                                                    \n",
       "2015  32.533333     8.800000        12.200000               10.733333   \n",
       "2016  26.500000    11.000000        15.865385               11.826923   \n",
       "2017  26.075472    17.094340        28.660377               18.094340   \n",
       "2018  30.269231    22.942308        36.500000               22.000000   \n",
       "2019  35.519231    30.653846        40.730769               22.865385   \n",
       "2020  61.594595    34.486486        40.351351               21.783784   \n",
       "\n",
       "      DeepLearning           Year          Month  \n",
       "Year                                              \n",
       "2015      4.066667   1.343468e+58   6.060673e+27  \n",
       "2016      6.692308  3.877311e+205  1.942502e+100  \n",
       "2017     12.150943  3.806041e+209  1.905851e+102  \n",
       "2018     14.173077  3.881157e+205  1.942502e+100  \n",
       "2019     14.538462  3.883081e+205  1.942502e+100  \n",
       "2020     14.297297  5.460005e+145   2.730003e+70  "
      ]
     },
     "execution_count": 17,
     "metadata": {},
     "output_type": "execute_result"
    }
   ],
   "source": [
    "trend_data.groupby('Year').apply(lambda trend_data: trend_data.mean())"
   ]
  },
  {
   "cell_type": "markdown",
   "metadata": {},
   "source": [
    "2c. Group by on multiple column"
   ]
  },
  {
   "cell_type": "code",
   "execution_count": 18,
   "metadata": {},
   "outputs": [
    {
     "data": {
      "text/plain": [
       "Year  Month\n",
       "2015  09        9.50\n",
       "      10        9.50\n",
       "      11        8.60\n",
       "      12        8.00\n",
       "2016  01       10.40\n",
       "               ...  \n",
       "2020  05       32.40\n",
       "      06       33.75\n",
       "      07       35.25\n",
       "      08       36.20\n",
       "      09       38.50\n",
       "Name: DataScience, Length: 61, dtype: float64"
      ]
     },
     "execution_count": 18,
     "metadata": {},
     "output_type": "execute_result"
    }
   ],
   "source": [
    "trend_data.groupby(['Year', 'Month']).DataScience.mean()"
   ]
  },
  {
   "cell_type": "markdown",
   "metadata": {},
   "source": [
    "2d. Group by and using multiple aggregation"
   ]
  },
  {
   "cell_type": "code",
   "execution_count": 19,
   "metadata": {},
   "outputs": [
    {
     "data": {
      "text/html": [
       "<div>\n",
       "<style scoped>\n",
       "    .dataframe tbody tr th:only-of-type {\n",
       "        vertical-align: middle;\n",
       "    }\n",
       "\n",
       "    .dataframe tbody tr th {\n",
       "        vertical-align: top;\n",
       "    }\n",
       "\n",
       "    .dataframe thead th {\n",
       "        text-align: right;\n",
       "    }\n",
       "</style>\n",
       "<table border=\"1\" class=\"dataframe\">\n",
       "  <thead>\n",
       "    <tr style=\"text-align: right;\">\n",
       "      <th></th>\n",
       "      <th>mean</th>\n",
       "      <th>min</th>\n",
       "      <th>max</th>\n",
       "      <th>len</th>\n",
       "      <th>std</th>\n",
       "    </tr>\n",
       "    <tr>\n",
       "      <th>Year</th>\n",
       "      <th></th>\n",
       "      <th></th>\n",
       "      <th></th>\n",
       "      <th></th>\n",
       "      <th></th>\n",
       "    </tr>\n",
       "  </thead>\n",
       "  <tbody>\n",
       "    <tr>\n",
       "      <th>2015</th>\n",
       "      <td>8.800000</td>\n",
       "      <td>7</td>\n",
       "      <td>10</td>\n",
       "      <td>15</td>\n",
       "      <td>0.941124</td>\n",
       "    </tr>\n",
       "    <tr>\n",
       "      <th>2016</th>\n",
       "      <td>11.000000</td>\n",
       "      <td>9</td>\n",
       "      <td>14</td>\n",
       "      <td>52</td>\n",
       "      <td>1.546660</td>\n",
       "    </tr>\n",
       "    <tr>\n",
       "      <th>2017</th>\n",
       "      <td>17.094340</td>\n",
       "      <td>13</td>\n",
       "      <td>21</td>\n",
       "      <td>53</td>\n",
       "      <td>1.983239</td>\n",
       "    </tr>\n",
       "    <tr>\n",
       "      <th>2018</th>\n",
       "      <td>22.942308</td>\n",
       "      <td>19</td>\n",
       "      <td>27</td>\n",
       "      <td>52</td>\n",
       "      <td>1.974479</td>\n",
       "    </tr>\n",
       "    <tr>\n",
       "      <th>2019</th>\n",
       "      <td>30.653846</td>\n",
       "      <td>26</td>\n",
       "      <td>37</td>\n",
       "      <td>52</td>\n",
       "      <td>2.771597</td>\n",
       "    </tr>\n",
       "    <tr>\n",
       "      <th>2020</th>\n",
       "      <td>34.486486</td>\n",
       "      <td>28</td>\n",
       "      <td>39</td>\n",
       "      <td>37</td>\n",
       "      <td>2.652270</td>\n",
       "    </tr>\n",
       "  </tbody>\n",
       "</table>\n",
       "</div>"
      ],
      "text/plain": [
       "           mean  min  max  len       std\n",
       "Year                                    \n",
       "2015   8.800000    7   10   15  0.941124\n",
       "2016  11.000000    9   14   52  1.546660\n",
       "2017  17.094340   13   21   53  1.983239\n",
       "2018  22.942308   19   27   52  1.974479\n",
       "2019  30.653846   26   37   52  2.771597\n",
       "2020  34.486486   28   39   37  2.652270"
      ]
     },
     "execution_count": 19,
     "metadata": {},
     "output_type": "execute_result"
    }
   ],
   "source": [
    "trend_data.groupby(['Year']).DataScience.aggregate([np.mean, min, max, len, np.std])"
   ]
  },
  {
   "cell_type": "markdown",
   "metadata": {},
   "source": [
    "To Try\n",
    "- Get the average trend score for Machine learning and Artificial Intelligence for every month and year (Concat year and month and keep it as one column)\n",
    "- Find the sum of trend score for all the topics/subjects for each year where data is available\n",
    "- Find the 7 day moving average of trend score for Machine Learning for the period 2017 and after"
   ]
  }
 ],
 "metadata": {
  "kernelspec": {
   "display_name": "Python 3",
   "language": "python",
   "name": "python3"
  },
  "language_info": {
   "codemirror_mode": {
    "name": "ipython",
    "version": 3
   },
   "file_extension": ".py",
   "mimetype": "text/x-python",
   "name": "python",
   "nbconvert_exporter": "python",
   "pygments_lexer": "ipython3",
   "version": "3.8.5"
  }
 },
 "nbformat": 4,
 "nbformat_minor": 4
}
