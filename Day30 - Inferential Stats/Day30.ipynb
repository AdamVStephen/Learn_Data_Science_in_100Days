{
 "cells": [
  {
   "cell_type": "markdown",
   "metadata": {},
   "source": [
    "Emprical Rule - Also referred to as 68-95-99.7 rule where in a normal distribution 68% of data falls within one standard deviation, 95% of data falls into 2 standard deviation and 99.7% data falls into 3 standard deviation\n",
    "\n",
    "Use-Case:\n",
    "- Helps to estimate the probability quickly"
   ]
  },
  {
   "cell_type": "markdown",
   "metadata": {},
   "source": [
    "Z- Score:\n",
    "- Show formula for Variance and Standard Deviation\n",
    "- Formula for Z Score\n",
    "- Definition: Z Score tells us how much standard deviationw are away from the Mean\n",
    "- Z-Score of 0 means its the Mean\n"
   ]
  },
  {
   "cell_type": "markdown",
   "metadata": {},
   "source": [
    "Hypothesis Testing"
   ]
  },
  {
   "cell_type": "code",
   "execution_count": null,
   "metadata": {},
   "outputs": [],
   "source": []
  }
 ],
 "metadata": {
  "kernelspec": {
   "display_name": "Python 3",
   "language": "python",
   "name": "python3"
  },
  "language_info": {
   "codemirror_mode": {
    "name": "ipython",
    "version": 3
   },
   "file_extension": ".py",
   "mimetype": "text/x-python",
   "name": "python",
   "nbconvert_exporter": "python",
   "pygments_lexer": "ipython3",
   "version": "3.8.5"
  }
 },
 "nbformat": 4,
 "nbformat_minor": 4
}
