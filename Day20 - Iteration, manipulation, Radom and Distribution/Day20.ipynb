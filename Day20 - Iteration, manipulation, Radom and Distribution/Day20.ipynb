{
 "cells": [
  {
   "cell_type": "markdown",
   "metadata": {},
   "source": [
    "#### Topics Covered today\n",
    "- Iteration\n",
    "- Manipulation\n",
    "- Random Number and Distribution"
   ]
  },
  {
   "cell_type": "code",
   "execution_count": 1,
   "metadata": {},
   "outputs": [],
   "source": [
    "import numpy as np"
   ]
  },
  {
   "cell_type": "markdown",
   "metadata": {},
   "source": [
    "1a. Iterate over a 1-dimensional array"
   ]
  },
  {
   "cell_type": "code",
   "execution_count": 3,
   "metadata": {},
   "outputs": [
    {
     "name": "stdout",
     "output_type": "stream",
     "text": [
      "1\n",
      "1\n",
      "2\n",
      "2\n",
      "3\n",
      "3\n",
      "4\n",
      "4\n",
      "5\n",
      "5\n"
     ]
    }
   ],
   "source": [
    "array1 = np.array([1, 2, 3, 4, 5])\n",
    "i = 0\n",
    "for x in array1:\n",
    "    print(x)\n",
    "    i = i+1\n",
    "    print(i)"
   ]
  },
  {
   "cell_type": "markdown",
   "metadata": {},
   "source": [
    "1b. Iterate over 2-dimensional array"
   ]
  },
  {
   "cell_type": "code",
   "execution_count": 7,
   "metadata": {},
   "outputs": [
    {
     "name": "stdout",
     "output_type": "stream",
     "text": [
      "[[ 1  2  3  4  5]\n",
      " [ 6  7  8  9 10]\n",
      " [ 6  7  8  9 10]]\n",
      "[1 2 3 4 5]\n",
      "1\n",
      "[ 6  7  8  9 10]\n",
      "2\n",
      "[ 6  7  8  9 10]\n",
      "3\n"
     ]
    }
   ],
   "source": [
    "array2 = np.array([[1, 2, 3, 4, 5],[6, 7, 8, 9, 10],[6, 7, 8, 9, 10]])\n",
    "print(array2)\n",
    "i = 0\n",
    "for x in array2:\n",
    "    print(x)\n",
    "    i = i + 1\n",
    "    print (i)\n"
   ]
  },
  {
   "cell_type": "markdown",
   "metadata": {},
   "source": [
    "1c. Iterate by elements in a 2-dimensional array"
   ]
  },
  {
   "cell_type": "code",
   "execution_count": 8,
   "metadata": {},
   "outputs": [
    {
     "name": "stdout",
     "output_type": "stream",
     "text": [
      "1\n",
      "2\n",
      "3\n",
      "4\n",
      "5\n",
      "6\n",
      "7\n",
      "8\n",
      "9\n",
      "10\n"
     ]
    }
   ],
   "source": [
    "array3 = np.array([[1, 2, 3, 4, 5],[6, 7, 8, 9, 10]])\n",
    "for i in array3:\n",
    "    for j in i:\n",
    "        print(j)"
   ]
  },
  {
   "cell_type": "markdown",
   "metadata": {},
   "source": [
    "1d. Iterate over 3-dimensional array"
   ]
  },
  {
   "cell_type": "code",
   "execution_count": 10,
   "metadata": {},
   "outputs": [
    {
     "name": "stdout",
     "output_type": "stream",
     "text": [
      "[[[ 1  2  3  4  5]\n",
      "  [ 6  7  8  9 10]]\n",
      "\n",
      " [[ 1  2  3  4  5]\n",
      "  [ 6  7  8  9 10]]]\n",
      "[[ 1  2  3  4  5]\n",
      " [ 6  7  8  9 10]]\n",
      "1\n",
      "[[ 1  2  3  4  5]\n",
      " [ 6  7  8  9 10]]\n",
      "2\n"
     ]
    }
   ],
   "source": [
    "array4 = np.array([[[1, 2, 3, 4, 5],[6, 7, 8, 9, 10]], [[1, 2, 3, 4, 5],[6, 7, 8, 9, 10]]])\n",
    "print(array4)\n",
    "i = 0\n",
    "for x in array4:\n",
    "    print(x)\n",
    "    i = i + 1\n",
    "    print (i)"
   ]
  },
  {
   "cell_type": "markdown",
   "metadata": {},
   "source": [
    "1e. Accessing all the elements in a 3-d array using loop"
   ]
  },
  {
   "cell_type": "code",
   "execution_count": 11,
   "metadata": {},
   "outputs": [
    {
     "name": "stdout",
     "output_type": "stream",
     "text": [
      "1\n",
      "2\n",
      "3\n",
      "4\n",
      "5\n",
      "6\n",
      "7\n",
      "8\n",
      "9\n",
      "10\n",
      "1\n",
      "2\n",
      "3\n",
      "4\n",
      "5\n",
      "6\n",
      "7\n",
      "8\n",
      "9\n",
      "10\n"
     ]
    }
   ],
   "source": [
    "array5 = np.array([[[1, 2, 3, 4, 5],[6, 7, 8, 9, 10]], [[1, 2, 3, 4, 5],[6, 7, 8, 9, 10]]])\n",
    "\n",
    "for i in array5:\n",
    "    for j in i:\n",
    "        for k in j:\n",
    "            print(k)"
   ]
  },
  {
   "cell_type": "markdown",
   "metadata": {},
   "source": [
    "1f. Using nditer and loop through the array"
   ]
  },
  {
   "cell_type": "code",
   "execution_count": 13,
   "metadata": {},
   "outputs": [
    {
     "name": "stdout",
     "output_type": "stream",
     "text": [
      "1\n",
      "1\n",
      "2\n",
      "2\n",
      "3\n",
      "3\n",
      "4\n",
      "4\n",
      "5\n",
      "5\n",
      "6\n",
      "6\n",
      "7\n",
      "7\n",
      "8\n",
      "8\n",
      "9\n",
      "9\n",
      "10\n",
      "10\n",
      "1\n",
      "11\n",
      "2\n",
      "12\n",
      "3\n",
      "13\n",
      "4\n",
      "14\n",
      "5\n",
      "15\n",
      "6\n",
      "16\n",
      "7\n",
      "17\n",
      "8\n",
      "18\n",
      "9\n",
      "19\n",
      "10\n",
      "20\n"
     ]
    }
   ],
   "source": [
    "array6 = np.array([[[1, 2, 3, 4, 5],[6, 7, 8, 9, 10]], [[1, 2, 3, 4, 5],[6, 7, 8, 9, 10]]])\n",
    "z = 0\n",
    "for i in np.nditer(array6):\n",
    "    print(i)\n",
    "    z = z +1\n",
    "    print(z)"
   ]
  },
  {
   "cell_type": "markdown",
   "metadata": {},
   "source": [
    "Manipulation <br>\n",
    "2a. Reshape (1-D to higher dimension)"
   ]
  },
  {
   "cell_type": "code",
   "execution_count": 24,
   "metadata": {},
   "outputs": [
    {
     "name": "stdout",
     "output_type": "stream",
     "text": [
      "[ 0  1  2  3  4  5  6  7  8  9 10 11 12 13 14 15 16 17 18 19 20 21 22 23\n",
      " 24 25 26 27 28 29]\n",
      "[[ 0  1  2  3  4  5  6  7  8  9]\n",
      " [10 11 12 13 14 15 16 17 18 19]\n",
      " [20 21 22 23 24 25 26 27 28 29]]\n"
     ]
    }
   ],
   "source": [
    "m_array1 = np.arange(30)\n",
    "print(m_array1)\n",
    "m_array2 = m_array1.reshape(3,10) \n",
    "print(m_array2)"
   ]
  },
  {
   "cell_type": "markdown",
   "metadata": {},
   "source": [
    "2b. Reshape (Higher dimension to 1-D)"
   ]
  },
  {
   "cell_type": "code",
   "execution_count": 22,
   "metadata": {},
   "outputs": [
    {
     "name": "stdout",
     "output_type": "stream",
     "text": [
      "[  0   1   2   3   4   5   6   7   8   9  10  11  12  13  14  15  16  17\n",
      "  18  19  20  21  22  23  24  25  26  27  28  29  30  31  32  33  34  35\n",
      "  36  37  38  39  40  41  42  43  44  45  46  47  48  49  50  51  52  53\n",
      "  54  55  56  57  58  59  60  61  62  63  64  65  66  67  68  69  70  71\n",
      "  72  73  74  75  76  77  78  79  80  81  82  83  84  85  86  87  88  89\n",
      "  90  91  92  93  94  95  96  97  98  99 100 101 102 103 104 105 106 107\n",
      " 108 109 110 111 112 113 114 115 116 117 118 119 120 121 122 123 124 125\n",
      " 126 127 128 129 130 131 132 133 134 135 136 137 138 139 140 141 142 143\n",
      " 144 145 146 147 148 149 150 151 152 153 154 155 156 157 158 159 160 161\n",
      " 162 163 164 165 166 167 168 169 170 171 172 173 174 175 176 177 178 179\n",
      " 180 181 182 183 184 185 186 187 188 189 190 191 192 193 194 195 196 197\n",
      " 198 199 200 201 202 203 204 205 206 207 208 209 210 211 212 213 214 215\n",
      " 216 217 218 219 220 221 222 223 224 225 226 227 228 229 230 231 232 233\n",
      " 234 235 236 237 238 239 240 241 242 243 244 245 246 247 248 249 250 251\n",
      " 252 253 254 255 256 257 258 259 260 261 262 263 264 265 266 267 268 269\n",
      " 270 271 272 273 274 275 276 277 278 279 280 281 282 283 284 285 286 287\n",
      " 288 289 290 291 292 293 294 295 296 297 298 299]\n"
     ]
    }
   ],
   "source": [
    "m_array3 = m_array2.flatten()\n",
    "print(m_array3)"
   ]
  },
  {
   "cell_type": "markdown",
   "metadata": {},
   "source": [
    "2c. Transpose"
   ]
  },
  {
   "cell_type": "code",
   "execution_count": 25,
   "metadata": {},
   "outputs": [
    {
     "name": "stdout",
     "output_type": "stream",
     "text": [
      "[[ 0  1  2  3  4  5  6  7  8  9]\n",
      " [10 11 12 13 14 15 16 17 18 19]\n",
      " [20 21 22 23 24 25 26 27 28 29]]\n",
      "[[ 0 10 20]\n",
      " [ 1 11 21]\n",
      " [ 2 12 22]\n",
      " [ 3 13 23]\n",
      " [ 4 14 24]\n",
      " [ 5 15 25]\n",
      " [ 6 16 26]\n",
      " [ 7 17 27]\n",
      " [ 8 18 28]\n",
      " [ 9 19 29]]\n"
     ]
    }
   ],
   "source": [
    "print(m_array2)\n",
    "print(m_array2.T)"
   ]
  },
  {
   "cell_type": "markdown",
   "metadata": {},
   "source": [
    "2d. Roll Axis"
   ]
  },
  {
   "cell_type": "code",
   "execution_count": 26,
   "metadata": {},
   "outputs": [
    {
     "name": "stdout",
     "output_type": "stream",
     "text": [
      "[[ 0 10 20]\n",
      " [ 1 11 21]\n",
      " [ 2 12 22]\n",
      " [ 3 13 23]\n",
      " [ 4 14 24]\n",
      " [ 5 15 25]\n",
      " [ 6 16 26]\n",
      " [ 7 17 27]\n",
      " [ 8 18 28]\n",
      " [ 9 19 29]]\n"
     ]
    }
   ],
   "source": [
    "print(np.rollaxis(m_array2,1))"
   ]
  },
  {
   "cell_type": "markdown",
   "metadata": {},
   "source": [
    "2e. Join, Slice and Splitting"
   ]
  },
  {
   "cell_type": "markdown",
   "metadata": {},
   "source": [
    "3a. Random Numbers"
   ]
  },
  {
   "cell_type": "code",
   "execution_count": 28,
   "metadata": {},
   "outputs": [],
   "source": [
    "from numpy import random"
   ]
  },
  {
   "cell_type": "code",
   "execution_count": 31,
   "metadata": {},
   "outputs": [
    {
     "data": {
      "text/plain": [
       "0.631776730868861"
      ]
     },
     "execution_count": 31,
     "metadata": {},
     "output_type": "execute_result"
    }
   ],
   "source": [
    "random.rand()"
   ]
  },
  {
   "cell_type": "markdown",
   "metadata": {},
   "source": [
    "3b. Random 1-D Array"
   ]
  },
  {
   "cell_type": "code",
   "execution_count": 32,
   "metadata": {},
   "outputs": [
    {
     "name": "stdout",
     "output_type": "stream",
     "text": [
      "[17 20 13 17 18]\n"
     ]
    }
   ],
   "source": [
    "r_array1 = random.randint(25, size=(5))\n",
    "print(r_array1)"
   ]
  },
  {
   "cell_type": "markdown",
   "metadata": {},
   "source": [
    "3c. Random 2-D Array"
   ]
  },
  {
   "cell_type": "code",
   "execution_count": 33,
   "metadata": {},
   "outputs": [
    {
     "name": "stdout",
     "output_type": "stream",
     "text": [
      "[[118  24   5 216 114]\n",
      " [112 182  15   2  73]\n",
      " [229  74 199  30  73]\n",
      " [110  93 118 222  97]\n",
      " [221 228   6  98 222]]\n"
     ]
    }
   ],
   "source": [
    "r_array2 = random.randint(250, size=(5, 5))\n",
    "print(r_array2)"
   ]
  },
  {
   "cell_type": "markdown",
   "metadata": {},
   "source": [
    "3d. Random Array with a specific distribution"
   ]
  },
  {
   "cell_type": "code",
   "execution_count": 34,
   "metadata": {},
   "outputs": [
    {
     "name": "stdout",
     "output_type": "stream",
     "text": [
      "[3 2 4 1 4 1 1 1 5 3 3 4 3 1 3 3 3 3 2 5 5 3 1 3 2 3 3 3 4 4 3 3 3 1 3 4 2\n",
      " 1 5 2 3 5 4 3 1 4 1 3 3 3 3 3 3 2 2 4 3 2 4 3 3 4 3 3 2 1 2 5 2 2 3 5 5 1\n",
      " 1 2 2 5 3 4 4 3 3 2 3 5 3 3 1 3 3 2 2 1 4 3 3 2 2 3]\n"
     ]
    }
   ],
   "source": [
    "r_array3 = random.choice([1, 2, 3, 4, 5], p=[0.1, 0.2, 0.4, 0.2, 0.1], size=(100))\n",
    "print(r_array3)"
   ]
  },
  {
   "cell_type": "markdown",
   "metadata": {},
   "source": [
    "##To Do\n",
    "- Create an 1-D array of length 100 and print only the even number (Hint - Use Iteration)\n",
    "- Create an 1-D array with random values and convert it into an 3-D array\n",
    "- Try roll axis on the abve 3-D array\n",
    "- Try transpose on the above 3-D array"
   ]
  },
  {
   "cell_type": "code",
   "execution_count": null,
   "metadata": {},
   "outputs": [],
   "source": []
  }
 ],
 "metadata": {
  "kernelspec": {
   "display_name": "Python 3",
   "language": "python",
   "name": "python3"
  },
  "language_info": {
   "codemirror_mode": {
    "name": "ipython",
    "version": 3
   },
   "file_extension": ".py",
   "mimetype": "text/x-python",
   "name": "python",
   "nbconvert_exporter": "python",
   "pygments_lexer": "ipython3",
   "version": "3.8.5"
  }
 },
 "nbformat": 4,
 "nbformat_minor": 4
}
