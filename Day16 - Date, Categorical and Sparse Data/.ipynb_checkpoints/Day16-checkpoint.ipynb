{
 "cells": [
  {
   "cell_type": "markdown",
   "metadata": {},
   "source": [
    "#### Topics Covered today\n",
    "- Date Functionality and Time Delta\n",
    "- Categorical Data\n",
    "- Sparse Data\n"
   ]
  },
  {
   "cell_type": "code",
   "execution_count": null,
   "metadata": {},
   "outputs": [],
   "source": [
    "import pandas as pd"
   ]
  },
  {
   "cell_type": "markdown",
   "metadata": {},
   "source": [
    "1a. Creating a Date Column"
   ]
  },
  {
   "cell_type": "code",
   "execution_count": null,
   "metadata": {},
   "outputs": [],
   "source": [
    "print(pd.date_range('1/1/2011', periods=5))"
   ]
  },
  {
   "cell_type": "markdown",
   "metadata": {},
   "source": [
    "1b. Adding Frequency"
   ]
  },
  {
   "cell_type": "code",
   "execution_count": null,
   "metadata": {},
   "outputs": [],
   "source": [
    "print(pd.date_range('1/1/2011', periods=5, freq='M'))"
   ]
  },
  {
   "cell_type": "markdown",
   "metadata": {},
   "source": [
    "1c. Other Frequency Options"
   ]
  },
  {
   "cell_type": "code",
   "execution_count": null,
   "metadata": {},
   "outputs": [],
   "source": [
    "print(pd.date_range('1/1/2011', periods=5, freq='MS'))\n",
    "# Show all the Frequency Options from Pandas"
   ]
  },
  {
   "cell_type": "markdown",
   "metadata": {},
   "source": [
    "2a. Time Delta"
   ]
  },
  {
   "cell_type": "code",
   "execution_count": null,
   "metadata": {},
   "outputs": [],
   "source": [
    "day1 = pd.to_datetime('today')\n",
    "day2 = day1 + pd.Timedelta('1 day')\n",
    "print(\"Day 1:\", day1)\n",
    "print(\"Day 2:\", day2, day2.day_name())"
   ]
  },
  {
   "cell_type": "markdown",
   "metadata": {},
   "source": [
    "2b. Date Operations"
   ]
  },
  {
   "cell_type": "code",
   "execution_count": null,
   "metadata": {},
   "outputs": [],
   "source": [
    "date = pd.Series(pd.date_range('2020-1-1', periods=7, freq='D'))\n",
    "to_be_added = pd.Series([pd.Timedelta(days=i) for i in range(7)])\n",
    "date_df = pd.DataFrame({'Date': date, 'To_Add': to_be_added})\n",
    "print(date_df)\n",
    "date_df['Final_Date'] = date_df['Date'] + date_df['To_Add']\n",
    "print(date_df)"
   ]
  },
  {
   "cell_type": "code",
   "execution_count": null,
   "metadata": {},
   "outputs": [],
   "source": [
    "date = pd.Series(pd.date_range('2020-1-1', periods=7, freq='D'))\n",
    "to_be_added = pd.Series([pd.Timedelta(days=i) for i in range(7)])\n",
    "date_df = pd.DataFrame({'Date': date, 'To_Add': to_be_added})\n",
    "print(date_df)\n",
    "date_df['Final_Date'] = date_df['Date'] - date_df['To_Add']\n",
    "print(date_df)"
   ]
  },
  {
   "cell_type": "code",
   "execution_count": null,
   "metadata": {},
   "outputs": [],
   "source": [
    "date = pd.Series(pd.date_range('2020-1-1', periods=7, freq='D'))\n",
    "to_be_added = pd.Series([pd.Timedelta(days=i) for i in range(7)])\n",
    "date_df['year'] = date_df['Date'].dt.year\n",
    "date_df['month'] = date_df['Date'].dt.month\n",
    "date_df['day'] = date_df['Date'].dt.day\n",
    "print(date_df)"
   ]
  },
  {
   "cell_type": "markdown",
   "metadata": {},
   "source": [
    "More date operation Here - https://pandas.pydata.org/pandas-docs/stable/user_guide/timedeltas.html"
   ]
  },
  {
   "cell_type": "markdown",
   "metadata": {},
   "source": [
    "3a. Categorical Data"
   ]
  },
  {
   "cell_type": "code",
   "execution_count": null,
   "metadata": {},
   "outputs": [],
   "source": [
    "gender = pd.Series([\"Male\",\"Female\",\"Male\",\"Female\", \"Female\"], dtype=\"category\")\n",
    "print(gender)"
   ]
  },
  {
   "cell_type": "markdown",
   "metadata": {},
   "source": [
    "3b. Get all categories"
   ]
  },
  {
   "cell_type": "code",
   "execution_count": null,
   "metadata": {},
   "outputs": [],
   "source": [
    "Categories = pd.Categorical(gender)\n",
    "print(Categories)\n"
   ]
  },
  {
   "cell_type": "markdown",
   "metadata": {},
   "source": [
    "3c. Accessing the objects from the categories"
   ]
  },
  {
   "cell_type": "code",
   "execution_count": null,
   "metadata": {},
   "outputs": [],
   "source": [
    "print(\"Categories:\", Categories[0], \"and\", Categories[1])"
   ]
  },
  {
   "cell_type": "markdown",
   "metadata": {},
   "source": [
    "3d. Summary on the Categrical attribute"
   ]
  },
  {
   "cell_type": "code",
   "execution_count": null,
   "metadata": {},
   "outputs": [],
   "source": [
    "print(gender.describe())"
   ]
  },
  {
   "cell_type": "markdown",
   "metadata": {},
   "source": [
    "3e. Removing certain categories"
   ]
  },
  {
   "cell_type": "code",
   "execution_count": null,
   "metadata": {},
   "outputs": [],
   "source": [
    "print(gender.cat.remove_categories(\"Male\"))"
   ]
  },
  {
   "cell_type": "markdown",
   "metadata": {},
   "source": [
    "4a. Sparse Data - Useful when there is a large number of zero elements"
   ]
  },
  {
   "cell_type": "code",
   "execution_count": null,
   "metadata": {},
   "outputs": [],
   "source": [
    "import pandas as pd\n",
    "import numpy as np\n",
    "\n",
    "\n",
    "df = pd.DataFrame(np.random.randn(10000, 4))\n",
    "df.iloc[:9998] = np.nan\n",
    "sdf = df.astype(pd.SparseDtype(\"float\", np.nan))\n",
    "print(type(sdf))"
   ]
  },
  {
   "cell_type": "code",
   "execution_count": null,
   "metadata": {},
   "outputs": [],
   "source": [
    "sdf.dtypes"
   ]
  },
  {
   "cell_type": "code",
   "execution_count": null,
   "metadata": {},
   "outputs": [],
   "source": [
    "sdf.sparse.density"
   ]
  },
  {
   "cell_type": "markdown",
   "metadata": {},
   "source": [
    "To Do\n",
    "- Read and try from the pandas documentation - https://pandas.pydata.org/pandas-docs/stable/user_guide/timeseries.html\n",
    "- Explore Categorical data with a kaggle dataset"
   ]
  },
  {
   "cell_type": "code",
   "execution_count": null,
   "metadata": {},
   "outputs": [],
   "source": []
  }
 ],
 "metadata": {
  "kernelspec": {
   "display_name": "Python 3",
   "language": "python",
   "name": "python3"
  },
  "language_info": {
   "codemirror_mode": {
    "name": "ipython",
    "version": 3
   },
   "file_extension": ".py",
   "mimetype": "text/x-python",
   "name": "python",
   "nbconvert_exporter": "python",
   "pygments_lexer": "ipython3",
   "version": "3.8.5"
  }
 },
 "nbformat": 4,
 "nbformat_minor": 4
}
