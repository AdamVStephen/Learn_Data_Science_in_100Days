{
 "cells": [
  {
   "cell_type": "markdown",
   "metadata": {},
   "source": [
    "#### Topics Covered today\n",
    "- Date Functionality and Time Delta\n",
    "- Categorical Data\n",
    "- Sparse Data\n"
   ]
  },
  {
   "cell_type": "code",
   "execution_count": 1,
   "metadata": {},
   "outputs": [],
   "source": [
    "import pandas as pd"
   ]
  },
  {
   "cell_type": "markdown",
   "metadata": {},
   "source": [
    "1a. Creating a Date Column"
   ]
  },
  {
   "cell_type": "code",
   "execution_count": 4,
   "metadata": {},
   "outputs": [
    {
     "name": "stdout",
     "output_type": "stream",
     "text": [
      "DatetimeIndex(['2011-05-01', '2011-05-02', '2011-05-03', '2011-05-04',\n",
      "               '2011-05-05', '2011-05-06', '2011-05-07', '2011-05-08',\n",
      "               '2011-05-09', '2011-05-10'],\n",
      "              dtype='datetime64[ns]', freq='D')\n"
     ]
    }
   ],
   "source": [
    "print(pd.date_range('5/1/2011', periods=10))"
   ]
  },
  {
   "cell_type": "markdown",
   "metadata": {},
   "source": [
    "1b. Adding Frequency"
   ]
  },
  {
   "cell_type": "code",
   "execution_count": 5,
   "metadata": {},
   "outputs": [
    {
     "name": "stdout",
     "output_type": "stream",
     "text": [
      "DatetimeIndex(['2011-01-31', '2011-02-28', '2011-03-31', '2011-04-30',\n",
      "               '2011-05-31'],\n",
      "              dtype='datetime64[ns]', freq='M')\n"
     ]
    }
   ],
   "source": [
    "print(pd.date_range('1/1/2011', periods=5, freq='M'))"
   ]
  },
  {
   "cell_type": "markdown",
   "metadata": {},
   "source": [
    "1c. Other Frequency Options"
   ]
  },
  {
   "cell_type": "code",
   "execution_count": 6,
   "metadata": {},
   "outputs": [
    {
     "name": "stdout",
     "output_type": "stream",
     "text": [
      "DatetimeIndex(['2011-01-01', '2011-02-01', '2011-03-01', '2011-04-01',\n",
      "               '2011-05-01'],\n",
      "              dtype='datetime64[ns]', freq='MS')\n"
     ]
    }
   ],
   "source": [
    "print(pd.date_range('1/1/2011', periods=5, freq='MS'))\n",
    "# Show all the Frequency Options from Pandas"
   ]
  },
  {
   "cell_type": "markdown",
   "metadata": {},
   "source": [
    "2a. Time Delta"
   ]
  },
  {
   "cell_type": "code",
   "execution_count": 7,
   "metadata": {},
   "outputs": [
    {
     "name": "stdout",
     "output_type": "stream",
     "text": [
      "Day 1: 2020-10-03 16:26:54.744401\n",
      "Day 2: 2020-10-04 16:26:54.744401 Sunday\n"
     ]
    }
   ],
   "source": [
    "day1 = pd.to_datetime('today')\n",
    "day2 = day1 + pd.Timedelta('1 day')\n",
    "print(\"Day 1:\", day1)\n",
    "print(\"Day 2:\", day2, day2.day_name())"
   ]
  },
  {
   "cell_type": "markdown",
   "metadata": {},
   "source": [
    "2b. Date Operations"
   ]
  },
  {
   "cell_type": "code",
   "execution_count": 8,
   "metadata": {},
   "outputs": [
    {
     "name": "stdout",
     "output_type": "stream",
     "text": [
      "        Date To_Add\n",
      "0 2020-01-01 0 days\n",
      "1 2020-01-02 1 days\n",
      "2 2020-01-03 2 days\n",
      "3 2020-01-04 3 days\n",
      "4 2020-01-05 4 days\n",
      "5 2020-01-06 5 days\n",
      "6 2020-01-07 6 days\n",
      "        Date To_Add Final_Date\n",
      "0 2020-01-01 0 days 2020-01-01\n",
      "1 2020-01-02 1 days 2020-01-03\n",
      "2 2020-01-03 2 days 2020-01-05\n",
      "3 2020-01-04 3 days 2020-01-07\n",
      "4 2020-01-05 4 days 2020-01-09\n",
      "5 2020-01-06 5 days 2020-01-11\n",
      "6 2020-01-07 6 days 2020-01-13\n"
     ]
    }
   ],
   "source": [
    "date = pd.Series(pd.date_range('2020-1-1', periods=7, freq='D'))\n",
    "to_be_added = pd.Series([pd.Timedelta(days=i) for i in range(7)])\n",
    "date_df = pd.DataFrame({'Date': date, 'To_Add': to_be_added})\n",
    "print(date_df)\n",
    "date_df['Final_Date'] = date_df['Date'] + date_df['To_Add']\n",
    "print(date_df)"
   ]
  },
  {
   "cell_type": "code",
   "execution_count": 9,
   "metadata": {},
   "outputs": [
    {
     "name": "stdout",
     "output_type": "stream",
     "text": [
      "        Date To_Add\n",
      "0 2020-01-01 0 days\n",
      "1 2020-01-02 1 days\n",
      "2 2020-01-03 2 days\n",
      "3 2020-01-04 3 days\n",
      "4 2020-01-05 4 days\n",
      "5 2020-01-06 5 days\n",
      "6 2020-01-07 6 days\n",
      "        Date To_Add Final_Date\n",
      "0 2020-01-01 0 days 2020-01-01\n",
      "1 2020-01-02 1 days 2020-01-01\n",
      "2 2020-01-03 2 days 2020-01-01\n",
      "3 2020-01-04 3 days 2020-01-01\n",
      "4 2020-01-05 4 days 2020-01-01\n",
      "5 2020-01-06 5 days 2020-01-01\n",
      "6 2020-01-07 6 days 2020-01-01\n"
     ]
    }
   ],
   "source": [
    "date = pd.Series(pd.date_range('2020-1-1', periods=7, freq='D'))\n",
    "to_be_added = pd.Series([pd.Timedelta(days=i) for i in range(7)])\n",
    "date_df = pd.DataFrame({'Date': date, 'To_Add': to_be_added})\n",
    "print(date_df)\n",
    "date_df['Final_Date'] = date_df['Date'] - date_df['To_Add']\n",
    "print(date_df)"
   ]
  },
  {
   "cell_type": "code",
   "execution_count": 10,
   "metadata": {},
   "outputs": [
    {
     "name": "stdout",
     "output_type": "stream",
     "text": [
      "        Date To_Add Final_Date  year  month  day\n",
      "0 2020-01-01 0 days 2020-01-01  2020      1    1\n",
      "1 2020-01-02 1 days 2020-01-01  2020      1    2\n",
      "2 2020-01-03 2 days 2020-01-01  2020      1    3\n",
      "3 2020-01-04 3 days 2020-01-01  2020      1    4\n",
      "4 2020-01-05 4 days 2020-01-01  2020      1    5\n",
      "5 2020-01-06 5 days 2020-01-01  2020      1    6\n",
      "6 2020-01-07 6 days 2020-01-01  2020      1    7\n"
     ]
    }
   ],
   "source": [
    "date = pd.Series(pd.date_range('2020-1-1', periods=7, freq='D'))\n",
    "to_be_added = pd.Series([pd.Timedelta(days=i) for i in range(7)])\n",
    "date_df['year'] = date_df['Date'].dt.year\n",
    "date_df['month'] = date_df['Date'].dt.month\n",
    "date_df['day'] = date_df['Date'].dt.day\n",
    "print(date_df)"
   ]
  },
  {
   "cell_type": "markdown",
   "metadata": {},
   "source": [
    "More date operation Here - https://pandas.pydata.org/pandas-docs/stable/user_guide/timedeltas.html"
   ]
  },
  {
   "cell_type": "markdown",
   "metadata": {},
   "source": [
    "3a. Categorical Data"
   ]
  },
  {
   "cell_type": "code",
   "execution_count": 11,
   "metadata": {},
   "outputs": [
    {
     "name": "stdout",
     "output_type": "stream",
     "text": [
      "0      Male\n",
      "1    Female\n",
      "2      Male\n",
      "3    Female\n",
      "4    Female\n",
      "dtype: category\n",
      "Categories (2, object): ['Female', 'Male']\n"
     ]
    }
   ],
   "source": [
    "gender = pd.Series([\"Male\",\"Female\",\"Male\",\"Female\", \"Female\"], dtype=\"category\")\n",
    "print(gender)"
   ]
  },
  {
   "cell_type": "markdown",
   "metadata": {},
   "source": [
    "3b. Get all categories"
   ]
  },
  {
   "cell_type": "code",
   "execution_count": 12,
   "metadata": {},
   "outputs": [
    {
     "name": "stdout",
     "output_type": "stream",
     "text": [
      "['Male', 'Female', 'Male', 'Female', 'Female']\n",
      "Categories (2, object): ['Female', 'Male']\n"
     ]
    }
   ],
   "source": [
    "Categories = pd.Categorical(gender)\n",
    "print(Categories)\n"
   ]
  },
  {
   "cell_type": "markdown",
   "metadata": {},
   "source": [
    "3c. Accessing the objects from the categories"
   ]
  },
  {
   "cell_type": "code",
   "execution_count": 13,
   "metadata": {},
   "outputs": [
    {
     "name": "stdout",
     "output_type": "stream",
     "text": [
      "Categories: Male and Female\n"
     ]
    }
   ],
   "source": [
    "print(\"Categories:\", Categories[0], \"and\", Categories[1])"
   ]
  },
  {
   "cell_type": "markdown",
   "metadata": {},
   "source": [
    "3d. Summary on the Categrical attribute"
   ]
  },
  {
   "cell_type": "code",
   "execution_count": 14,
   "metadata": {},
   "outputs": [
    {
     "name": "stdout",
     "output_type": "stream",
     "text": [
      "count          5\n",
      "unique         2\n",
      "top       Female\n",
      "freq           3\n",
      "dtype: object\n"
     ]
    }
   ],
   "source": [
    "print(gender.describe())"
   ]
  },
  {
   "cell_type": "markdown",
   "metadata": {},
   "source": [
    "3e. Removing certain categories"
   ]
  },
  {
   "cell_type": "code",
   "execution_count": 15,
   "metadata": {},
   "outputs": [
    {
     "name": "stdout",
     "output_type": "stream",
     "text": [
      "0       NaN\n",
      "1    Female\n",
      "2       NaN\n",
      "3    Female\n",
      "4    Female\n",
      "dtype: category\n",
      "Categories (1, object): ['Female']\n"
     ]
    }
   ],
   "source": [
    "print(gender.cat.remove_categories(\"Male\"))"
   ]
  },
  {
   "cell_type": "markdown",
   "metadata": {},
   "source": [
    "4a. Sparse Data - Useful when there is a large number of zero elements"
   ]
  },
  {
   "cell_type": "code",
   "execution_count": 17,
   "metadata": {},
   "outputs": [
    {
     "name": "stdout",
     "output_type": "stream",
     "text": [
      "<class 'pandas.core.frame.DataFrame'>\n"
     ]
    }
   ],
   "source": [
    "import pandas as pd\n",
    "import numpy as np\n",
    "\n",
    "\n",
    "df = pd.DataFrame(np.random.randn(10000, 4))\n",
    "df.iloc[:9998] = np.nan\n",
    "sdf = df.astype(pd.SparseDtype(\"float\", np.nan))\n",
    "print(type(sdf))"
   ]
  },
  {
   "cell_type": "code",
   "execution_count": 18,
   "metadata": {},
   "outputs": [
    {
     "data": {
      "text/plain": [
       "0    Sparse[float64, nan]\n",
       "1    Sparse[float64, nan]\n",
       "2    Sparse[float64, nan]\n",
       "3    Sparse[float64, nan]\n",
       "dtype: object"
      ]
     },
     "execution_count": 18,
     "metadata": {},
     "output_type": "execute_result"
    }
   ],
   "source": [
    "sdf.dtypes"
   ]
  },
  {
   "cell_type": "code",
   "execution_count": 19,
   "metadata": {},
   "outputs": [
    {
     "data": {
      "text/plain": [
       "0.0002"
      ]
     },
     "execution_count": 19,
     "metadata": {},
     "output_type": "execute_result"
    }
   ],
   "source": [
    "sdf.sparse.density"
   ]
  },
  {
   "cell_type": "markdown",
   "metadata": {},
   "source": [
    "To Do\n",
    "- Read and try from the pandas documentation - https://pandas.pydata.org/pandas-docs/stable/user_guide/timeseries.html\n",
    "- Explore Categorical data with a kaggle dataset"
   ]
  },
  {
   "cell_type": "code",
   "execution_count": null,
   "metadata": {},
   "outputs": [],
   "source": []
  }
 ],
 "metadata": {
  "kernelspec": {
   "display_name": "Python 3",
   "language": "python",
   "name": "python3"
  },
  "language_info": {
   "codemirror_mode": {
    "name": "ipython",
    "version": 3
   },
   "file_extension": ".py",
   "mimetype": "text/x-python",
   "name": "python",
   "nbconvert_exporter": "python",
   "pygments_lexer": "ipython3",
   "version": "3.8.5"
  }
 },
 "nbformat": 4,
 "nbformat_minor": 4
}
