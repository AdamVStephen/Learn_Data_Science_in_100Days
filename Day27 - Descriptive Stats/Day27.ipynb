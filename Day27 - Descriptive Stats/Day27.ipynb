{
 "cells": [
  {
   "cell_type": "markdown",
   "metadata": {},
   "source": [
    "#### Topics covered today are around descriptive Stats\n",
    "- Central Tendency - Mean, Median, Mode, Skewness and Kurtosis\n",
    "- Variability - Percentile, Variance, Std. Deviation, Std. Error"
   ]
  },
  {
   "cell_type": "code",
   "execution_count": 1,
   "metadata": {},
   "outputs": [],
   "source": [
    "import pandas as pd\n",
    "import numpy as np\n",
    "import matplotlib.pyplot as plt\n",
    "from scipy.stats import skew\n",
    "from scipy.stats import kurtosis\n",
    "from scipy import stats"
   ]
  },
  {
   "cell_type": "code",
   "execution_count": 2,
   "metadata": {},
   "outputs": [
    {
     "name": "stdout",
     "output_type": "stream",
     "text": [
      "   Object  Meassure\n",
      "0       1        60\n",
      "1       2       136\n",
      "2       3        79\n",
      "3       4       119\n",
      "4       5        96\n"
     ]
    }
   ],
   "source": [
    "original_data = pd.read_csv('../Data/Stats_Day2_Data.csv')\n",
    "print(original_data.head())"
   ]
  },
  {
   "cell_type": "markdown",
   "metadata": {},
   "source": [
    "Distribution"
   ]
  },
  {
   "cell_type": "code",
   "execution_count": 3,
   "metadata": {},
   "outputs": [
    {
     "data": {
      "text/plain": [
       "Text(0.5, 0, 'Random Data')"
      ]
     },
     "execution_count": 3,
     "metadata": {},
     "output_type": "execute_result"
    },
    {
     "data": {
      "image/png": "[encoded data removed]",
      "text/plain": [
       "<Figure size 432x288 with 1 Axes>"
      ]
     },
     "metadata": {
      "needs_background": "light"
     },
     "output_type": "display_data"
    }
   ],
   "source": [
    "plt.hist(original_data['Meassure'], density=True, bins=30)  \n",
    "plt.ylabel('Probability')\n",
    "plt.xlabel('Random Data')"
   ]
  },
  {
   "cell_type": "markdown",
   "metadata": {},
   "source": [
    "Central Tendency"
   ]
  },
  {
   "cell_type": "code",
   "execution_count": 4,
   "metadata": {},
   "outputs": [
    {
     "name": "stdout",
     "output_type": "stream",
     "text": [
      "Mean: 100.594\n",
      "Median: 101.0\n",
      "Mode: 0    86\n",
      "dtype: int64\n",
      "Skewness: -0.10972489865324071\n",
      "Kurtosis: 0.04437337405623509\n"
     ]
    }
   ],
   "source": [
    "print(\"Mean:\", original_data['Meassure'].mean())\n",
    "print(\"Median:\", original_data['Meassure'].median())\n",
    "print(\"Mode:\", original_data['Meassure'].mode())\n",
    "print(\"Skewness:\", skew(original_data['Meassure']))\n",
    "# 0 means a normal distribution\n",
    "# To check for negative or positve skewness\n",
    "print(\"Kurtosis:\", kurtosis(original_data['Meassure']))\n",
    "# Probability of Outliers in data \n",
    "#Leptokurtic - High kurtosis - Many Outliers\n",
    "#Platykurtic - Low Kurtosis - Less Outliers"
   ]
  },
  {
   "cell_type": "markdown",
   "metadata": {},
   "source": [
    "WB - Whiteboard explanation of concepts"
   ]
  },
  {
   "cell_type": "markdown",
   "metadata": {},
   "source": [
    "Percentiles"
   ]
  },
  {
   "cell_type": "code",
   "execution_count": 5,
   "metadata": {},
   "outputs": [
    {
     "data": {
      "text/plain": [
       "0.1     69.0\n",
       "0.2     80.8\n",
       "0.3     88.0\n",
       "0.4     95.0\n",
       "0.5    101.0\n",
       "0.6    107.0\n",
       "0.7    114.0\n",
       "0.8    122.0\n",
       "0.9    132.0\n",
       "Name: Meassure, dtype: float64"
      ]
     },
     "execution_count": 5,
     "metadata": {},
     "output_type": "execute_result"
    }
   ],
   "source": [
    "original_data['Meassure'].quantile(np.linspace(.1, 1, 9, 0))"
   ]
  },
  {
   "cell_type": "markdown",
   "metadata": {},
   "source": [
    "Variance - Meassure how far the individual values go from the mean"
   ]
  },
  {
   "cell_type": "code",
   "execution_count": 6,
   "metadata": {},
   "outputs": [
    {
     "data": {
      "text/plain": [
       "618.057164"
      ]
     },
     "execution_count": 6,
     "metadata": {},
     "output_type": "execute_result"
    }
   ],
   "source": [
    "np.var(original_data['Meassure'])"
   ]
  },
  {
   "cell_type": "markdown",
   "metadata": {},
   "source": [
    "WB - What is variance and standard deviation on white board"
   ]
  },
  {
   "cell_type": "markdown",
   "metadata": {},
   "source": [
    "Standard Deviation - Meassure of volatality in the data too, it is actually square root of the variance"
   ]
  },
  {
   "cell_type": "code",
   "execution_count": 7,
   "metadata": {},
   "outputs": [
    {
     "data": {
      "text/plain": [
       "24.860755499380947"
      ]
     },
     "execution_count": 7,
     "metadata": {},
     "output_type": "execute_result"
    }
   ],
   "source": [
    "np.std(original_data['Meassure'])"
   ]
  },
  {
   "cell_type": "code",
   "execution_count": 8,
   "metadata": {},
   "outputs": [
    {
     "data": {
      "text/plain": [
       "0.7865594954228445"
      ]
     },
     "execution_count": 8,
     "metadata": {},
     "output_type": "execute_result"
    }
   ],
   "source": [
    "stats.sem(original_data['Meassure'])"
   ]
  },
  {
   "cell_type": "markdown",
   "metadata": {},
   "source": [
    "WB - Difference between the Standard Deviation and Standard Error of Mean on White Board"
   ]
  },
  {
   "cell_type": "code",
   "execution_count": null,
   "metadata": {},
   "outputs": [],
   "source": []
  }
 ],
 "metadata": {
  "kernelspec": {
   "display_name": "Python 3",
   "language": "python",
   "name": "python3"
  },
  "language_info": {
   "codemirror_mode": {
    "name": "ipython",
    "version": 3
   },
   "file_extension": ".py",
   "mimetype": "text/x-python",
   "name": "python",
   "nbconvert_exporter": "python",
   "pygments_lexer": "ipython3",
   "version": "3.8.5"
  }
 },
 "nbformat": 4,
 "nbformat_minor": 4
}
