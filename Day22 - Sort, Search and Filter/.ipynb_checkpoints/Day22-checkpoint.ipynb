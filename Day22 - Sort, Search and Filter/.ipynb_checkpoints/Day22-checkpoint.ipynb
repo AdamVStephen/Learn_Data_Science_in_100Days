{
 "cells": [
  {
   "cell_type": "markdown",
   "metadata": {},
   "source": [
    "#### Topics covered today\n",
    "- Sort\n",
    "- Search\n",
    "- Filter"
   ]
  },
  {
   "cell_type": "code",
   "execution_count": 1,
   "metadata": {},
   "outputs": [],
   "source": [
    "import numpy as np"
   ]
  },
  {
   "cell_type": "markdown",
   "metadata": {},
   "source": [
    "1a. Sort 1-D Array"
   ]
  },
  {
   "cell_type": "code",
   "execution_count": 2,
   "metadata": {},
   "outputs": [
    {
     "name": "stdout",
     "output_type": "stream",
     "text": [
      "[12 13 21 32 34 45 56 89]\n"
     ]
    }
   ],
   "source": [
    "array1 = np.array([56, 12, 34, 21, 89, 45, 32, 13])\n",
    "print(np.sort(array1))"
   ]
  },
  {
   "cell_type": "code",
   "execution_count": 39,
   "metadata": {},
   "outputs": [
    {
     "name": "stdout",
     "output_type": "stream",
     "text": [
      "[89 56 45 34 32 21 13 12]\n"
     ]
    }
   ],
   "source": [
    "# To reverse order\n",
    "print(np.sort(array1)[::-1])"
   ]
  },
  {
   "cell_type": "markdown",
   "metadata": {},
   "source": [
    "1b. Sort String Array"
   ]
  },
  {
   "cell_type": "code",
   "execution_count": 3,
   "metadata": {},
   "outputs": [
    {
     "name": "stdout",
     "output_type": "stream",
     "text": [
      "['a' 'b' 'x' 'y' 'z']\n"
     ]
    }
   ],
   "source": [
    "str_array1 = np.array(['x','y','z','a','b'])\n",
    "print(np.sort(str_array1))"
   ]
  },
  {
   "cell_type": "markdown",
   "metadata": {},
   "source": [
    "1c. Sorting 2-D Array"
   ]
  },
  {
   "cell_type": "code",
   "execution_count": 8,
   "metadata": {},
   "outputs": [
    {
     "name": "stdout",
     "output_type": "stream",
     "text": [
      "[[23 34 46 78 98]\n",
      " [23 24 46 78 86]\n",
      " [23 34 56 65 78]]\n"
     ]
    }
   ],
   "source": [
    "array2 = np.array([[46,34,23,78,98], [78,46,86,24,23], [78,56,34,65,23]]) \n",
    "print(np.sort(array2))"
   ]
  },
  {
   "cell_type": "markdown",
   "metadata": {},
   "source": [
    "1d. Sorting 2-D array with Axis"
   ]
  },
  {
   "cell_type": "code",
   "execution_count": 12,
   "metadata": {},
   "outputs": [
    {
     "name": "stdout",
     "output_type": "stream",
     "text": [
      "[[46 34 23 24 23]\n",
      " [78 46 34 65 23]\n",
      " [78 56 86 78 98]]\n"
     ]
    }
   ],
   "source": [
    "print(np.sort(array2, axis = 0))"
   ]
  },
  {
   "cell_type": "code",
   "execution_count": 14,
   "metadata": {},
   "outputs": [
    {
     "name": "stdout",
     "output_type": "stream",
     "text": [
      "[[46 34 23 24 23]\n",
      " [78 46 34 65 23]\n",
      " [78 56 86 78 98]]\n"
     ]
    }
   ],
   "source": [
    "print(np.sort(array2, axis = 0, kind = 'mergesort'))"
   ]
  },
  {
   "cell_type": "code",
   "execution_count": 16,
   "metadata": {},
   "outputs": [
    {
     "name": "stdout",
     "output_type": "stream",
     "text": [
      "[[46 34 23 78 98]\n",
      " [78 46 86 24 23]\n",
      " [78 56 34 65 23]]\n",
      "[[46 34 23 24 23]\n",
      " [78 46 34 65 23]\n",
      " [78 56 86 78 98]]\n"
     ]
    }
   ],
   "source": [
    "print(array2)\n",
    "print(np.msort(array2)) # Sort based on first axis"
   ]
  },
  {
   "cell_type": "markdown",
   "metadata": {},
   "source": [
    "2a. Search"
   ]
  },
  {
   "cell_type": "code",
   "execution_count": 17,
   "metadata": {},
   "outputs": [
    {
     "data": {
      "text/plain": [
       "(array([2], dtype=int64),)"
      ]
     },
     "execution_count": 17,
     "metadata": {},
     "output_type": "execute_result"
    }
   ],
   "source": [
    "array1 = np.array([56, 12, 34, 21, 89, 45, 32, 13])\n",
    "np.where(array1 == 34)"
   ]
  },
  {
   "cell_type": "markdown",
   "metadata": {},
   "source": [
    "2b. Search position meeting criteria"
   ]
  },
  {
   "cell_type": "code",
   "execution_count": 18,
   "metadata": {},
   "outputs": [
    {
     "data": {
      "text/plain": [
       "(array([0, 1, 2, 6], dtype=int64),)"
      ]
     },
     "execution_count": 18,
     "metadata": {},
     "output_type": "execute_result"
    }
   ],
   "source": [
    "np.where(array1%2 == 0)"
   ]
  },
  {
   "cell_type": "markdown",
   "metadata": {},
   "source": [
    "2c. To extract the elements satisfying the condition"
   ]
  },
  {
   "cell_type": "code",
   "execution_count": 36,
   "metadata": {},
   "outputs": [
    {
     "data": {
      "text/plain": [
       "array([56, 12, 34, 32])"
      ]
     },
     "execution_count": 36,
     "metadata": {},
     "output_type": "execute_result"
    }
   ],
   "source": [
    "np.extract(array1%2 == 0, array1)"
   ]
  },
  {
   "cell_type": "markdown",
   "metadata": {},
   "source": [
    "2d. Where to insert to retain the sort order"
   ]
  },
  {
   "cell_type": "code",
   "execution_count": 20,
   "metadata": {},
   "outputs": [
    {
     "data": {
      "text/plain": [
       "8"
      ]
     },
     "execution_count": 20,
     "metadata": {},
     "output_type": "execute_result"
    }
   ],
   "source": [
    "np.searchsorted(array1, 33)\n",
    "#np.searchsorted(array1, 336)"
   ]
  },
  {
   "cell_type": "code",
   "execution_count": 21,
   "metadata": {},
   "outputs": [
    {
     "data": {
      "text/plain": [
       "array([2, 0, 4], dtype=int64)"
      ]
     },
     "execution_count": 21,
     "metadata": {},
     "output_type": "execute_result"
    }
   ],
   "source": [
    "np.searchsorted(array1, [33, 4, 76])"
   ]
  },
  {
   "cell_type": "markdown",
   "metadata": {},
   "source": [
    "2e. Find position of min and max values"
   ]
  },
  {
   "cell_type": "code",
   "execution_count": 22,
   "metadata": {},
   "outputs": [
    {
     "data": {
      "text/plain": [
       "1"
      ]
     },
     "execution_count": 22,
     "metadata": {},
     "output_type": "execute_result"
    }
   ],
   "source": [
    "np.argmin(array1)"
   ]
  },
  {
   "cell_type": "code",
   "execution_count": 29,
   "metadata": {},
   "outputs": [
    {
     "name": "stdout",
     "output_type": "stream",
     "text": [
      "[[12  2 33 44 15]\n",
      " [61 17 28 39  1]\n",
      " [16 22  3 41 15]]\n",
      "Position of smallest element 9\n",
      "Position of smallest elements by rows [1 4 2]\n",
      "Position of smallest elements by column [0 0 2 1 1]\n"
     ]
    }
   ],
   "source": [
    "array2 = np.array([[12,2,33,44,15],[61,17,28,39,1],[16,22,3,41,15]]) \n",
    "print(array2)\n",
    "print(\"Position of minimum value\", np.argmin(array2))\n",
    "print(\"Position of minimum values by rows\", np.argmin(array2, axis = 1))\n",
    "print(\"Position of minimum values by column\", np.argmin(array2, axis = 0))"
   ]
  },
  {
   "cell_type": "code",
   "execution_count": 30,
   "metadata": {},
   "outputs": [
    {
     "name": "stdout",
     "output_type": "stream",
     "text": [
      "[[12  2 33 44 15]\n",
      " [61 17 28 39  1]\n",
      " [16 22  3 41 15]]\n",
      "Position of maximum values 5\n"
     ]
    }
   ],
   "source": [
    "array2 = np.array([[12,2,33,44,15],[61,17,28,39,1],[16,22,3,41,15]]) \n",
    "print(array2)\n",
    "print(\"Position of maximum values\", np.argmax(array2))"
   ]
  },
  {
   "cell_type": "markdown",
   "metadata": {},
   "source": [
    "3a. Filter"
   ]
  },
  {
   "cell_type": "code",
   "execution_count": 38,
   "metadata": {},
   "outputs": [
    {
     "name": "stdout",
     "output_type": "stream",
     "text": [
      "[33 44 61 28 39 22 41]\n"
     ]
    }
   ],
   "source": [
    "array2 = np.array([[12,2,33,44,15],[61,17,28,39,1],[16,22,3,41,15]]) \n",
    "condition = array2 > 19\n",
    "\n",
    "filtered_array = array2[condition]\n",
    "print(filtered_array)"
   ]
  },
  {
   "cell_type": "markdown",
   "metadata": {},
   "source": [
    "#### To Try\n",
    "- Repeat the above with new set of 1-D, 2-D and 3-D array\n",
    "- Go through the numpy documentation and try things that we have not covered here"
   ]
  }
 ],
 "metadata": {
  "kernelspec": {
   "display_name": "Python 3",
   "language": "python",
   "name": "python3"
  },
  "language_info": {
   "codemirror_mode": {
    "name": "ipython",
    "version": 3
   },
   "file_extension": ".py",
   "mimetype": "text/x-python",
   "name": "python",
   "nbconvert_exporter": "python",
   "pygments_lexer": "ipython3",
   "version": "3.8.5"
  }
 },
 "nbformat": 4,
 "nbformat_minor": 4
}
