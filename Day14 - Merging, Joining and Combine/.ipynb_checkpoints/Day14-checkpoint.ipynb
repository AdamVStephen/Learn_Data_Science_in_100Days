{
 "cells": [
  {
   "cell_type": "markdown",
   "metadata": {},
   "source": [
    "#### Topics Covered\n",
    "- Merging / Joining / Combining"
   ]
  },
  {
   "cell_type": "code",
   "execution_count": 2,
   "metadata": {},
   "outputs": [
    {
     "name": "stdout",
     "output_type": "stream",
     "text": [
      "         Week  eLearning  DataScience  MachineLearning\n",
      "0  20/09/2015         32            9               11\n",
      "1  27/09/2015         35           10               11\n",
      "2   4/10/2015         38           10               12\n",
      "3  11/10/2015         37            9               12\n",
      "4  18/10/2015         38            9               12\n",
      "         Week  ArtificialIntelligence  DeepLearning\n",
      "0  20/09/2015                      11             4\n",
      "1  27/09/2015                      11             4\n",
      "2   4/10/2015                      11             4\n",
      "3  11/10/2015                      10             4\n",
      "4  18/10/2015                      10             4\n"
     ]
    }
   ],
   "source": [
    "#import pandas library and provide alias name as pd\n",
    "import pandas as pd\n",
    "import numpy as np\n",
    "\n",
    "trend_data1 = pd.read_csv('Data/SearchTrendData1.csv')\n",
    "trend_data2 = pd.read_csv('Data/SearchTrendData2.csv')\n",
    "print(trend_data1.head())\n",
    "print(trend_data2.head())"
   ]
  },
  {
   "cell_type": "markdown",
   "metadata": {},
   "source": [
    "1a. Combining datasets"
   ]
  },
  {
   "cell_type": "code",
   "execution_count": 4,
   "metadata": {},
   "outputs": [
    {
     "data": {
      "text/html": [
       "<div>\n",
       "<style scoped>\n",
       "    .dataframe tbody tr th:only-of-type {\n",
       "        vertical-align: middle;\n",
       "    }\n",
       "\n",
       "    .dataframe tbody tr th {\n",
       "        vertical-align: top;\n",
       "    }\n",
       "\n",
       "    .dataframe thead th {\n",
       "        text-align: right;\n",
       "    }\n",
       "</style>\n",
       "<table border=\"1\" class=\"dataframe\">\n",
       "  <thead>\n",
       "    <tr style=\"text-align: right;\">\n",
       "      <th></th>\n",
       "      <th>Week</th>\n",
       "      <th>eLearning</th>\n",
       "      <th>DataScience</th>\n",
       "      <th>MachineLearning</th>\n",
       "      <th>ArtificialIntelligence</th>\n",
       "      <th>DeepLearning</th>\n",
       "    </tr>\n",
       "  </thead>\n",
       "  <tbody>\n",
       "    <tr>\n",
       "      <th>256</th>\n",
       "      <td>16/08/2020</td>\n",
       "      <td>NaN</td>\n",
       "      <td>NaN</td>\n",
       "      <td>NaN</td>\n",
       "      <td>22.0</td>\n",
       "      <td>14.0</td>\n",
       "    </tr>\n",
       "    <tr>\n",
       "      <th>257</th>\n",
       "      <td>23/08/2020</td>\n",
       "      <td>NaN</td>\n",
       "      <td>NaN</td>\n",
       "      <td>NaN</td>\n",
       "      <td>21.0</td>\n",
       "      <td>14.0</td>\n",
       "    </tr>\n",
       "    <tr>\n",
       "      <th>258</th>\n",
       "      <td>30/08/2020</td>\n",
       "      <td>NaN</td>\n",
       "      <td>NaN</td>\n",
       "      <td>NaN</td>\n",
       "      <td>21.0</td>\n",
       "      <td>14.0</td>\n",
       "    </tr>\n",
       "    <tr>\n",
       "      <th>259</th>\n",
       "      <td>6/09/2020</td>\n",
       "      <td>NaN</td>\n",
       "      <td>NaN</td>\n",
       "      <td>NaN</td>\n",
       "      <td>24.0</td>\n",
       "      <td>14.0</td>\n",
       "    </tr>\n",
       "    <tr>\n",
       "      <th>260</th>\n",
       "      <td>13/09/2020</td>\n",
       "      <td>NaN</td>\n",
       "      <td>NaN</td>\n",
       "      <td>NaN</td>\n",
       "      <td>21.0</td>\n",
       "      <td>14.0</td>\n",
       "    </tr>\n",
       "  </tbody>\n",
       "</table>\n",
       "</div>"
      ],
      "text/plain": [
       "           Week  eLearning  DataScience  MachineLearning  \\\n",
       "256  16/08/2020        NaN          NaN              NaN   \n",
       "257  23/08/2020        NaN          NaN              NaN   \n",
       "258  30/08/2020        NaN          NaN              NaN   \n",
       "259   6/09/2020        NaN          NaN              NaN   \n",
       "260  13/09/2020        NaN          NaN              NaN   \n",
       "\n",
       "     ArtificialIntelligence  DeepLearning  \n",
       "256                    22.0          14.0  \n",
       "257                    21.0          14.0  \n",
       "258                    21.0          14.0  \n",
       "259                    24.0          14.0  \n",
       "260                    21.0          14.0  "
      ]
     },
     "execution_count": 4,
     "metadata": {},
     "output_type": "execute_result"
    }
   ],
   "source": [
    "new_data1 = pd.concat([trend_data1, trend_data2])\n",
    "print(new_data1.head())\n",
    "print(new_data1.tail())"
   ]
  },
  {
   "cell_type": "markdown",
   "metadata": {},
   "source": [
    "2a. Using Join to combine them"
   ]
  },
  {
   "cell_type": "code",
   "execution_count": 6,
   "metadata": {},
   "outputs": [
    {
     "data": {
      "text/html": [
       "<div>\n",
       "<style scoped>\n",
       "    .dataframe tbody tr th:only-of-type {\n",
       "        vertical-align: middle;\n",
       "    }\n",
       "\n",
       "    .dataframe tbody tr th {\n",
       "        vertical-align: top;\n",
       "    }\n",
       "\n",
       "    .dataframe thead th {\n",
       "        text-align: right;\n",
       "    }\n",
       "</style>\n",
       "<table border=\"1\" class=\"dataframe\">\n",
       "  <thead>\n",
       "    <tr style=\"text-align: right;\">\n",
       "      <th></th>\n",
       "      <th>Week_LEFT</th>\n",
       "      <th>eLearning</th>\n",
       "      <th>DataScience</th>\n",
       "      <th>MachineLearning</th>\n",
       "      <th>Week_RIGHT</th>\n",
       "      <th>ArtificialIntelligence</th>\n",
       "      <th>DeepLearning</th>\n",
       "    </tr>\n",
       "  </thead>\n",
       "  <tbody>\n",
       "    <tr>\n",
       "      <th>0</th>\n",
       "      <td>20/09/2015</td>\n",
       "      <td>32</td>\n",
       "      <td>9</td>\n",
       "      <td>11</td>\n",
       "      <td>20/09/2015</td>\n",
       "      <td>11</td>\n",
       "      <td>4</td>\n",
       "    </tr>\n",
       "    <tr>\n",
       "      <th>1</th>\n",
       "      <td>27/09/2015</td>\n",
       "      <td>35</td>\n",
       "      <td>10</td>\n",
       "      <td>11</td>\n",
       "      <td>27/09/2015</td>\n",
       "      <td>11</td>\n",
       "      <td>4</td>\n",
       "    </tr>\n",
       "    <tr>\n",
       "      <th>2</th>\n",
       "      <td>4/10/2015</td>\n",
       "      <td>38</td>\n",
       "      <td>10</td>\n",
       "      <td>12</td>\n",
       "      <td>4/10/2015</td>\n",
       "      <td>11</td>\n",
       "      <td>4</td>\n",
       "    </tr>\n",
       "    <tr>\n",
       "      <th>3</th>\n",
       "      <td>11/10/2015</td>\n",
       "      <td>37</td>\n",
       "      <td>9</td>\n",
       "      <td>12</td>\n",
       "      <td>11/10/2015</td>\n",
       "      <td>10</td>\n",
       "      <td>4</td>\n",
       "    </tr>\n",
       "    <tr>\n",
       "      <th>4</th>\n",
       "      <td>18/10/2015</td>\n",
       "      <td>38</td>\n",
       "      <td>9</td>\n",
       "      <td>12</td>\n",
       "      <td>18/10/2015</td>\n",
       "      <td>10</td>\n",
       "      <td>4</td>\n",
       "    </tr>\n",
       "  </tbody>\n",
       "</table>\n",
       "</div>"
      ],
      "text/plain": [
       "    Week_LEFT  eLearning  DataScience  MachineLearning  Week_RIGHT  \\\n",
       "0  20/09/2015         32            9               11  20/09/2015   \n",
       "1  27/09/2015         35           10               11  27/09/2015   \n",
       "2   4/10/2015         38           10               12   4/10/2015   \n",
       "3  11/10/2015         37            9               12  11/10/2015   \n",
       "4  18/10/2015         38            9               12  18/10/2015   \n",
       "\n",
       "   ArtificialIntelligence  DeepLearning  \n",
       "0                      11             4  \n",
       "1                      11             4  \n",
       "2                      11             4  \n",
       "3                      10             4  \n",
       "4                      10             4  "
      ]
     },
     "execution_count": 6,
     "metadata": {},
     "output_type": "execute_result"
    }
   ],
   "source": [
    "new_data2 = trend_data1.join(trend_data2, lsuffix='_LEFT', rsuffix='_RIGHT')\n",
    "# Left suffix and right suffix are used to differentiate the columns that are common\n",
    "new_data2.head()"
   ]
  },
  {
   "cell_type": "markdown",
   "metadata": {},
   "source": [
    "2b. Using Join and a common column as key to make the join"
   ]
  },
  {
   "cell_type": "code",
   "execution_count": 8,
   "metadata": {},
   "outputs": [
    {
     "data": {
      "text/html": [
       "<div>\n",
       "<style scoped>\n",
       "    .dataframe tbody tr th:only-of-type {\n",
       "        vertical-align: middle;\n",
       "    }\n",
       "\n",
       "    .dataframe tbody tr th {\n",
       "        vertical-align: top;\n",
       "    }\n",
       "\n",
       "    .dataframe thead th {\n",
       "        text-align: right;\n",
       "    }\n",
       "</style>\n",
       "<table border=\"1\" class=\"dataframe\">\n",
       "  <thead>\n",
       "    <tr style=\"text-align: right;\">\n",
       "      <th></th>\n",
       "      <th>eLearning</th>\n",
       "      <th>DataScience</th>\n",
       "      <th>MachineLearning</th>\n",
       "      <th>ArtificialIntelligence</th>\n",
       "      <th>DeepLearning</th>\n",
       "    </tr>\n",
       "    <tr>\n",
       "      <th>Week</th>\n",
       "      <th></th>\n",
       "      <th></th>\n",
       "      <th></th>\n",
       "      <th></th>\n",
       "      <th></th>\n",
       "    </tr>\n",
       "  </thead>\n",
       "  <tbody>\n",
       "    <tr>\n",
       "      <th>20/09/2015</th>\n",
       "      <td>32</td>\n",
       "      <td>9</td>\n",
       "      <td>11</td>\n",
       "      <td>11</td>\n",
       "      <td>4</td>\n",
       "    </tr>\n",
       "    <tr>\n",
       "      <th>27/09/2015</th>\n",
       "      <td>35</td>\n",
       "      <td>10</td>\n",
       "      <td>11</td>\n",
       "      <td>11</td>\n",
       "      <td>4</td>\n",
       "    </tr>\n",
       "    <tr>\n",
       "      <th>4/10/2015</th>\n",
       "      <td>38</td>\n",
       "      <td>10</td>\n",
       "      <td>12</td>\n",
       "      <td>11</td>\n",
       "      <td>4</td>\n",
       "    </tr>\n",
       "    <tr>\n",
       "      <th>11/10/2015</th>\n",
       "      <td>37</td>\n",
       "      <td>9</td>\n",
       "      <td>12</td>\n",
       "      <td>10</td>\n",
       "      <td>4</td>\n",
       "    </tr>\n",
       "    <tr>\n",
       "      <th>18/10/2015</th>\n",
       "      <td>38</td>\n",
       "      <td>9</td>\n",
       "      <td>12</td>\n",
       "      <td>10</td>\n",
       "      <td>4</td>\n",
       "    </tr>\n",
       "  </tbody>\n",
       "</table>\n",
       "</div>"
      ],
      "text/plain": [
       "            eLearning  DataScience  MachineLearning  ArtificialIntelligence  \\\n",
       "Week                                                                          \n",
       "20/09/2015         32            9               11                      11   \n",
       "27/09/2015         35           10               11                      11   \n",
       "4/10/2015          38           10               12                      11   \n",
       "11/10/2015         37            9               12                      10   \n",
       "18/10/2015         38            9               12                      10   \n",
       "\n",
       "            DeepLearning  \n",
       "Week                      \n",
       "20/09/2015             4  \n",
       "27/09/2015             4  \n",
       "4/10/2015              4  \n",
       "11/10/2015             4  \n",
       "18/10/2015             4  "
      ]
     },
     "execution_count": 8,
     "metadata": {},
     "output_type": "execute_result"
    }
   ],
   "source": [
    "new_data3 = trend_data1.set_index('Week').join(trend_data2.set_index('Week'))\n",
    "new_data3.head()"
   ]
  },
  {
   "cell_type": "markdown",
   "metadata": {},
   "source": [
    "2c. To preserve the index in the original dataframe then we use below method"
   ]
  },
  {
   "cell_type": "code",
   "execution_count": 9,
   "metadata": {},
   "outputs": [
    {
     "data": {
      "text/html": [
       "<div>\n",
       "<style scoped>\n",
       "    .dataframe tbody tr th:only-of-type {\n",
       "        vertical-align: middle;\n",
       "    }\n",
       "\n",
       "    .dataframe tbody tr th {\n",
       "        vertical-align: top;\n",
       "    }\n",
       "\n",
       "    .dataframe thead th {\n",
       "        text-align: right;\n",
       "    }\n",
       "</style>\n",
       "<table border=\"1\" class=\"dataframe\">\n",
       "  <thead>\n",
       "    <tr style=\"text-align: right;\">\n",
       "      <th></th>\n",
       "      <th>Week</th>\n",
       "      <th>eLearning</th>\n",
       "      <th>DataScience</th>\n",
       "      <th>MachineLearning</th>\n",
       "      <th>ArtificialIntelligence</th>\n",
       "      <th>DeepLearning</th>\n",
       "    </tr>\n",
       "  </thead>\n",
       "  <tbody>\n",
       "    <tr>\n",
       "      <th>0</th>\n",
       "      <td>20/09/2015</td>\n",
       "      <td>32</td>\n",
       "      <td>9</td>\n",
       "      <td>11</td>\n",
       "      <td>11</td>\n",
       "      <td>4</td>\n",
       "    </tr>\n",
       "    <tr>\n",
       "      <th>1</th>\n",
       "      <td>27/09/2015</td>\n",
       "      <td>35</td>\n",
       "      <td>10</td>\n",
       "      <td>11</td>\n",
       "      <td>11</td>\n",
       "      <td>4</td>\n",
       "    </tr>\n",
       "    <tr>\n",
       "      <th>2</th>\n",
       "      <td>4/10/2015</td>\n",
       "      <td>38</td>\n",
       "      <td>10</td>\n",
       "      <td>12</td>\n",
       "      <td>11</td>\n",
       "      <td>4</td>\n",
       "    </tr>\n",
       "    <tr>\n",
       "      <th>3</th>\n",
       "      <td>11/10/2015</td>\n",
       "      <td>37</td>\n",
       "      <td>9</td>\n",
       "      <td>12</td>\n",
       "      <td>10</td>\n",
       "      <td>4</td>\n",
       "    </tr>\n",
       "    <tr>\n",
       "      <th>4</th>\n",
       "      <td>18/10/2015</td>\n",
       "      <td>38</td>\n",
       "      <td>9</td>\n",
       "      <td>12</td>\n",
       "      <td>10</td>\n",
       "      <td>4</td>\n",
       "    </tr>\n",
       "  </tbody>\n",
       "</table>\n",
       "</div>"
      ],
      "text/plain": [
       "         Week  eLearning  DataScience  MachineLearning  \\\n",
       "0  20/09/2015         32            9               11   \n",
       "1  27/09/2015         35           10               11   \n",
       "2   4/10/2015         38           10               12   \n",
       "3  11/10/2015         37            9               12   \n",
       "4  18/10/2015         38            9               12   \n",
       "\n",
       "   ArtificialIntelligence  DeepLearning  \n",
       "0                      11             4  \n",
       "1                      11             4  \n",
       "2                      11             4  \n",
       "3                      10             4  \n",
       "4                      10             4  "
      ]
     },
     "execution_count": 9,
     "metadata": {},
     "output_type": "execute_result"
    }
   ],
   "source": [
    "new_data4 = trend_data1.join(trend_data2.set_index('Week'), on='Week')\n",
    "new_data4.head()"
   ]
  },
  {
   "cell_type": "markdown",
   "metadata": {},
   "source": [
    "3a. Using Merge to join the datasets"
   ]
  },
  {
   "cell_type": "code",
   "execution_count": 12,
   "metadata": {},
   "outputs": [
    {
     "name": "stdout",
     "output_type": "stream",
     "text": [
      "         Week  eLearning  DataScience  MachineLearning  \\\n",
      "0  20/09/2015         32            9               11   \n",
      "1  27/09/2015         35           10               11   \n",
      "2   4/10/2015         38           10               12   \n",
      "3  11/10/2015         37            9               12   \n",
      "4  18/10/2015         38            9               12   \n",
      "\n",
      "   ArtificialIntelligence  DeepLearning  \n",
      "0                      11             4  \n",
      "1                      11             4  \n",
      "2                      11             4  \n",
      "3                      10             4  \n",
      "4                      10             4  \n"
     ]
    }
   ],
   "source": [
    "new_data5 = pd.merge(trend_data1, trend_data2, on='Week')\n",
    "print(new_data5.head())"
   ]
  },
  {
   "cell_type": "markdown",
   "metadata": {},
   "source": [
    "What is the difference Join and Merge?\n",
    "- Join by default does a left join that is keeps all the  rows of the first dataframe but merge by default will do inner join that only combine the rows that are common\n",
    "- Join always join via an index whereas merge can be used to join based on any column(s) in the dataframe"
   ]
  },
  {
   "cell_type": "code",
   "execution_count": 21,
   "metadata": {},
   "outputs": [
    {
     "name": "stdout",
     "output_type": "stream",
     "text": [
      "         Week  DataScience\n",
      "0  20/09/2015            9\n",
      "1  27/09/2015           10\n",
      "2   4/10/2015           10\n",
      "3  11/10/2015            9\n",
      "4  18/10/2015            9\n",
      "5  25/10/2015           10\n",
      "         Week  DataScience\n",
      "4  18/10/2015            9\n",
      "5  25/10/2015           10\n",
      "6   1/11/2015            9\n",
      "7   8/11/2015            8\n",
      "8  15/11/2015            9\n",
      "9  22/11/2015            8\n"
     ]
    }
   ],
   "source": [
    "t1 = new_data5.loc[[0,1,2,3,4,5],['Week', 'DataScience']]\n",
    "t2 = new_data5.loc[[4,5,6,7,8,9],['Week', 'DataScience']]\n",
    "print(t1)\n",
    "print(t2)"
   ]
  },
  {
   "cell_type": "markdown",
   "metadata": {},
   "source": [
    "3b. Inner Join"
   ]
  },
  {
   "cell_type": "code",
   "execution_count": 22,
   "metadata": {},
   "outputs": [
    {
     "name": "stdout",
     "output_type": "stream",
     "text": [
      "         Week  DataScience_x  DataScience_y\n",
      "0  18/10/2015              9              9\n",
      "1  25/10/2015             10             10\n"
     ]
    }
   ],
   "source": [
    "new_data6 = pd.merge(t1, t2, on='Week')\n",
    "print(new_data6.head())"
   ]
  },
  {
   "cell_type": "markdown",
   "metadata": {},
   "source": [
    "3c. Left Join"
   ]
  },
  {
   "cell_type": "code",
   "execution_count": 24,
   "metadata": {},
   "outputs": [
    {
     "name": "stdout",
     "output_type": "stream",
     "text": [
      "         Week  DataScience_x  DataScience_y\n",
      "0  20/09/2015              9            NaN\n",
      "1  27/09/2015             10            NaN\n",
      "2   4/10/2015             10            NaN\n",
      "3  11/10/2015              9            NaN\n",
      "4  18/10/2015              9            9.0\n",
      "5  25/10/2015             10           10.0\n"
     ]
    }
   ],
   "source": [
    "new_data7 = pd.merge(t1, t2, on='Week', how='left')\n",
    "print(new_data7.head(10))"
   ]
  },
  {
   "cell_type": "markdown",
   "metadata": {},
   "source": [
    "3d. Right Join"
   ]
  },
  {
   "cell_type": "code",
   "execution_count": 25,
   "metadata": {},
   "outputs": [
    {
     "name": "stdout",
     "output_type": "stream",
     "text": [
      "         Week  DataScience_x  DataScience_y\n",
      "0  18/10/2015            9.0              9\n",
      "1  25/10/2015           10.0             10\n",
      "2   1/11/2015            NaN              9\n",
      "3   8/11/2015            NaN              8\n",
      "4  15/11/2015            NaN              9\n",
      "5  22/11/2015            NaN              8\n"
     ]
    }
   ],
   "source": [
    "new_data8 = pd.merge(t1, t2, on='Week', how='right')\n",
    "print(new_data8.head(10))"
   ]
  },
  {
   "cell_type": "markdown",
   "metadata": {},
   "source": [
    "3e. Outter Join"
   ]
  },
  {
   "cell_type": "code",
   "execution_count": 26,
   "metadata": {},
   "outputs": [
    {
     "name": "stdout",
     "output_type": "stream",
     "text": [
      "         Week  DataScience_x  DataScience_y\n",
      "0  20/09/2015            9.0            NaN\n",
      "1  27/09/2015           10.0            NaN\n",
      "2   4/10/2015           10.0            NaN\n",
      "3  11/10/2015            9.0            NaN\n",
      "4  18/10/2015            9.0            9.0\n",
      "5  25/10/2015           10.0           10.0\n",
      "6   1/11/2015            NaN            9.0\n",
      "7   8/11/2015            NaN            8.0\n",
      "8  15/11/2015            NaN            9.0\n",
      "9  22/11/2015            NaN            8.0\n"
     ]
    }
   ],
   "source": [
    "new_data9 = pd.merge(t1, t2, how='outer', on='Week')\n",
    "print(new_data9.head(15))"
   ]
  },
  {
   "cell_type": "markdown",
   "metadata": {},
   "source": [
    "#### To Try\n",
    "- Create a subset dataframe from trand_date1 by filtering rows from index 0 to 20 and create an another dataframe by filtering rows from index 10 to 30\n",
    "- Join the above dataset using \n",
    "    - Concat\n",
    "    - Join (Try inner, left, right)\n",
    "    - Merge (try inner, left, right, outer)\n",
    "- Repeat the above tutorial with a new dataset"
   ]
  },
  {
   "cell_type": "code",
   "execution_count": null,
   "metadata": {},
   "outputs": [],
   "source": []
  }
 ],
 "metadata": {
  "kernelspec": {
   "display_name": "Python 3",
   "language": "python",
   "name": "python3"
  },
  "language_info": {
   "codemirror_mode": {
    "name": "ipython",
    "version": 3
   },
   "file_extension": ".py",
   "mimetype": "text/x-python",
   "name": "python",
   "nbconvert_exporter": "python",
   "pygments_lexer": "ipython3",
   "version": "3.8.5"
  }
 },
 "nbformat": 4,
 "nbformat_minor": 4
}
