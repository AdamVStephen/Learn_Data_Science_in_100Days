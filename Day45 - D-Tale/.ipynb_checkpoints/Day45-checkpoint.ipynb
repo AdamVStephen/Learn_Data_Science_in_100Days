{
 "cells": [
  {
   "cell_type": "code",
   "execution_count": 1,
   "metadata": {},
   "outputs": [],
   "source": [
    "import dtale\n",
    "import pandas as pd\n",
    "from sklearn.datasets import load_diabetes\n",
    "import seaborn as sns"
   ]
  },
  {
   "cell_type": "code",
   "execution_count": 2,
   "metadata": {},
   "outputs": [],
   "source": [
    "df = sns.load_dataset('car_crashes')\n",
    "dtale_carcrash = dtale.show(df)\n",
    "#open it in a new window in browser\n",
    "dtale_carcrash.open_browser()"
   ]
  },
  {
   "cell_type": "markdown",
   "metadata": {},
   "source": [
    "- Rename\n",
    "- Replace\n",
    "- Describe\n",
    "- Outliers\n",
    "- Filter Outliers\n",
    "- Update grid\n",
    "- Variance Report\n",
    "- Duplicate and Missing checks\n",
    "- Correlation\n",
    "- Custom Filter\n",
    "- Heatmap\n",
    "- Highlight\n",
    "- Export\n",
    "- Charts"
   ]
  }
 ],
 "metadata": {
  "kernelspec": {
   "display_name": "Python 3",
   "language": "python",
   "name": "python3"
  },
  "language_info": {
   "codemirror_mode": {
    "name": "ipython",
    "version": 3
   },
   "file_extension": ".py",
   "mimetype": "text/x-python",
   "name": "python",
   "nbconvert_exporter": "python",
   "pygments_lexer": "ipython3",
   "version": "3.8.5"
  }
 },
 "nbformat": 4,
 "nbformat_minor": 4
}
