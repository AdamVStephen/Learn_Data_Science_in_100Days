{
 "cells": [
  {
   "cell_type": "markdown",
   "metadata": {},
   "source": [
    "#### Topics to be covered today\n",
    "- Binary Operations\n",
    "- String Operations\n",
    "- Mathematical Operations\n",
    "- Stat Operations"
   ]
  },
  {
   "cell_type": "code",
   "execution_count": 1,
   "metadata": {},
   "outputs": [],
   "source": [
    "import numpy as np"
   ]
  },
  {
   "cell_type": "markdown",
   "metadata": {},
   "source": [
    "1a. Bitwise Operator"
   ]
  },
  {
   "cell_type": "code",
   "execution_count": 3,
   "metadata": {},
   "outputs": [
    {
     "name": "stdout",
     "output_type": "stream",
     "text": [
      "Number 1: 10 Binary: 1010\n",
      "Number 2: 11 Binary: 1011\n",
      "Bitwise_OR_operator: 11 Binary Representation: 1011\n",
      "Bitwise_AND_operator: 10 Binary Representation: 1010\n"
     ]
    }
   ],
   "source": [
    "num1 = 10\n",
    "num2 = 11\n",
    "print(\"Number 1:\", num1, \"Binary:\", np.binary_repr(num1))\n",
    "print(\"Number 2:\", num2, \"Binary:\", np.binary_repr(num2)) \n",
    "Bitwise_OR_operator = np.bitwise_or(num1, num2)\n",
    "Bitwise_AND_operator = np.bitwise_and(num1, num2)\n",
    "print(\"Bitwise_OR_operator:\", Bitwise_OR_operator, \"Binary Representation:\", np.binary_repr(Bitwise_OR_operator))\n",
    "print(\"Bitwise_AND_operator:\", Bitwise_AND_operator, \"Binary Representation:\", np.binary_repr(Bitwise_AND_operator))"
   ]
  },
  {
   "cell_type": "code",
   "execution_count": 4,
   "metadata": {},
   "outputs": [
    {
     "name": "stdout",
     "output_type": "stream",
     "text": [
      "Bitwise_OR_operator: 15 Binary Representation: 1111\n",
      "Bitwise_AND_operator: 2 Binary Representation: 10\n"
     ]
    }
   ],
   "source": [
    "num1 = 10\n",
    "num2 = 7\n",
    "  \n",
    "Bitwise_OR_operator = np.bitwise_or(num1, num2)\n",
    "Bitwise_AND_operator = np.bitwise_and(num1, num2)\n",
    "print(\"Bitwise_OR_operator:\", Bitwise_OR_operator, \"Binary Representation:\", np.binary_repr(Bitwise_OR_operator))\n",
    "print(\"Bitwise_AND_operator:\", Bitwise_AND_operator, \"Binary Representation:\", np.binary_repr(Bitwise_AND_operator))"
   ]
  },
  {
   "cell_type": "markdown",
   "metadata": {},
   "source": [
    "2a. String operation - Add"
   ]
  },
  {
   "cell_type": "code",
   "execution_count": 8,
   "metadata": {},
   "outputs": [
    {
     "data": {
      "text/plain": [
       "array(['a1x', 'by', 'cz', 'da', 'eb', 'aa'], dtype='<U3')"
      ]
     },
     "execution_count": 8,
     "metadata": {},
     "output_type": "execute_result"
    }
   ],
   "source": [
    "str_array1 = np.array(['a1','b','c','d','e', 'a'])\n",
    "str_array2 = np.array(['x','y','z','a','b', 'a'])\n",
    "np.char.add(str_array1 , str_array2)"
   ]
  },
  {
   "cell_type": "code",
   "execution_count": 9,
   "metadata": {},
   "outputs": [
    {
     "data": {
      "text/plain": [
       "array(['aa', 'ba', 'ca', 'da', 'ea'], dtype='<U2')"
      ]
     },
     "execution_count": 9,
     "metadata": {},
     "output_type": "execute_result"
    }
   ],
   "source": [
    "str_array1 = np.array(['a','b','c','d','e'])\n",
    "str_array2 = 'a'\n",
    "np.char.add(str_array1 , str_array2)"
   ]
  },
  {
   "cell_type": "markdown",
   "metadata": {},
   "source": [
    "2b. String operation - Multiply"
   ]
  },
  {
   "cell_type": "code",
   "execution_count": 12,
   "metadata": {},
   "outputs": [
    {
     "data": {
      "text/plain": [
       "array(['abababab', 'bbbb', 'cccc', 'dddd', 'eeee'], dtype='<U8')"
      ]
     },
     "execution_count": 12,
     "metadata": {},
     "output_type": "execute_result"
    }
   ],
   "source": [
    "str_array1 = np.array(['ab','b','c','d','e'])\n",
    "np.char.multiply(str_array1 , 4)"
   ]
  },
  {
   "cell_type": "markdown",
   "metadata": {},
   "source": [
    "2c. String operation - Capitalize"
   ]
  },
  {
   "cell_type": "code",
   "execution_count": 13,
   "metadata": {},
   "outputs": [
    {
     "data": {
      "text/plain": [
       "array('Learn data science', dtype='<U18')"
      ]
     },
     "execution_count": 13,
     "metadata": {},
     "output_type": "execute_result"
    }
   ],
   "source": [
    "np.char.capitalize('learn data science')"
   ]
  },
  {
   "cell_type": "code",
   "execution_count": 14,
   "metadata": {},
   "outputs": [
    {
     "data": {
      "text/plain": [
       "array(['Ababab', 'Bbb', 'Ccc', 'Ddd', 'Eee'], dtype='<U6')"
      ]
     },
     "execution_count": 14,
     "metadata": {},
     "output_type": "execute_result"
    }
   ],
   "source": [
    "np.char.capitalize(np.char.multiply(str_array1 , 3))"
   ]
  },
  {
   "cell_type": "markdown",
   "metadata": {},
   "source": [
    "2d. String operation - Change of Case (lower to upper case and vice-versa)"
   ]
  },
  {
   "cell_type": "code",
   "execution_count": 16,
   "metadata": {},
   "outputs": [
    {
     "data": {
      "text/plain": [
       "array(['ab', 'b', 'c', 'd', 'e'], dtype='<U2')"
      ]
     },
     "execution_count": 16,
     "metadata": {},
     "output_type": "execute_result"
    }
   ],
   "source": [
    "#np.char.upper(str_array1)\n",
    "np.char.lower(str_array1)"
   ]
  },
  {
   "cell_type": "markdown",
   "metadata": {},
   "source": [
    "2e. String Operation - Strip the empty spaces"
   ]
  },
  {
   "cell_type": "code",
   "execution_count": 17,
   "metadata": {},
   "outputs": [
    {
     "name": "stdout",
     "output_type": "stream",
     "text": [
      "['  x   ' ' y ' ' z ' ' a  ' '  b   ']\n",
      "['x' 'y' 'z' 'a' 'b']\n"
     ]
    }
   ],
   "source": [
    "str_array3 = np.array(['  x   ',' y ',' z ',' a  ','  b   '])\n",
    "print(str_array3)\n",
    "print(np.char.strip(str_array3))"
   ]
  },
  {
   "cell_type": "markdown",
   "metadata": {},
   "source": [
    "2f. String Operation - Replace"
   ]
  },
  {
   "cell_type": "code",
   "execution_count": 19,
   "metadata": {},
   "outputs": [
    {
     "data": {
      "text/plain": [
       "array(['  x   ', ' y ', ' z ', ' a  ', '  b   '], dtype='<U6')"
      ]
     },
     "execution_count": 19,
     "metadata": {},
     "output_type": "execute_result"
    }
   ],
   "source": [
    "np.char.replace (str_array3, 't', 'a')"
   ]
  },
  {
   "cell_type": "markdown",
   "metadata": {},
   "source": [
    "3a. Mathe,atical operation"
   ]
  },
  {
   "cell_type": "code",
   "execution_count": 22,
   "metadata": {},
   "outputs": [
    {
     "name": "stdout",
     "output_type": "stream",
     "text": [
      "Addition: [3 4 5 6 7]\n",
      "Multiplication: [ 2  4  6  8 10]\n",
      "Subtract: [-1  0  1  2  3]\n"
     ]
    }
   ],
   "source": [
    "m_array1 = np.array([1,2,3,4,5])\n",
    "m_array2 = np.array([2,2,2,2,2])\n",
    "\n",
    "print(\"Addition:\", m_array1 + m_array2)\n",
    "print(\"Multiplication:\", m_array1 * m_array2)\n",
    "print(\"Subtract:\", m_array1 - m_array2)"
   ]
  },
  {
   "cell_type": "markdown",
   "metadata": {},
   "source": [
    "3b. Round-off"
   ]
  },
  {
   "cell_type": "code",
   "execution_count": 23,
   "metadata": {},
   "outputs": [
    {
     "name": "stdout",
     "output_type": "stream",
     "text": [
      "Round-off: [ 2.12  6.23  7.34  9.55 11.34]\n",
      "Floor: [ 2.  6.  7.  9. 11.]\n",
      "Ceil: [ 3.  7.  8. 10. 12.]\n"
     ]
    }
   ],
   "source": [
    "m_array3 = np.array([2.122,6.23423,7.343,9.5465,11.343])\n",
    "print(\"Round-off:\", np.around(m_array3, decimals = 2))\n",
    "print(\"Floor:\", np.floor(m_array3))\n",
    "print(\"Ceil:\", np.ceil(m_array3))"
   ]
  },
  {
   "cell_type": "markdown",
   "metadata": {},
   "source": [
    "3c. Power"
   ]
  },
  {
   "cell_type": "code",
   "execution_count": 25,
   "metadata": {},
   "outputs": [
    {
     "name": "stdout",
     "output_type": "stream",
     "text": [
      "[ 1  4  9 16 25]\n",
      "[ 1  4  9 16 25]\n"
     ]
    }
   ],
   "source": [
    "m_array1 = np.array([1,2,3,4,5])\n",
    "m_array2 = np.array([2,2,2,2,2])\n",
    "print(np.power(m_array1,m_array2))\n",
    "print(np.power(m_array1,2))"
   ]
  },
  {
   "cell_type": "markdown",
   "metadata": {},
   "source": [
    "4a. Stat Operations -  Min and Max"
   ]
  },
  {
   "cell_type": "code",
   "execution_count": 26,
   "metadata": {},
   "outputs": [
    {
     "name": "stdout",
     "output_type": "stream",
     "text": [
      "Min: 1\n",
      "Max: 15\n"
     ]
    }
   ],
   "source": [
    "m_array4 = np.array([[1,2,3,4,5],[6,7,8,9,10],[11,12,13,14,15]]) \n",
    "print(\"Min:\", np.amin(m_array4))\n",
    "print(\"Max:\", np.amax(m_array4))"
   ]
  },
  {
   "cell_type": "markdown",
   "metadata": {},
   "source": [
    "4b. Stat Operations - Min and Max with Axis"
   ]
  },
  {
   "cell_type": "code",
   "execution_count": 31,
   "metadata": {},
   "outputs": [
    {
     "name": "stdout",
     "output_type": "stream",
     "text": [
      "[[ 1  2  3  4  5]\n",
      " [ 6  7  8  9 10]\n",
      " [11 12 13 14 15]]\n",
      "Min: [ 1  6 11]\n",
      "Max: [11 12 13 14 15]\n"
     ]
    }
   ],
   "source": [
    "print(m_array4)\n",
    "print(\"Min:\", np.amin(m_array4, axis = 1)) # Second parameter is Axis\n",
    "print(\"Max:\", np.amax(m_array4, axis = 0))"
   ]
  },
  {
   "cell_type": "markdown",
   "metadata": {},
   "source": [
    "4c. Stat Operations - Median"
   ]
  },
  {
   "cell_type": "code",
   "execution_count": 32,
   "metadata": {},
   "outputs": [
    {
     "name": "stdout",
     "output_type": "stream",
     "text": [
      "Median: [ 3.  8. 13.]\n"
     ]
    }
   ],
   "source": [
    "print(\"Median:\", np.median(m_array4, 1))"
   ]
  },
  {
   "cell_type": "markdown",
   "metadata": {},
   "source": [
    "4d. Stat Operations - Average, Mean and Variance"
   ]
  },
  {
   "cell_type": "code",
   "execution_count": 34,
   "metadata": {},
   "outputs": [
    {
     "name": "stdout",
     "output_type": "stream",
     "text": [
      "Average: [ 6.  7.  8.  9. 10.]\n",
      "Mean: [ 6.  7.  8.  9. 10.]\n",
      "Variance: [16.66666667 16.66666667 16.66666667 16.66666667 16.66666667]\n"
     ]
    }
   ],
   "source": [
    "print(\"Average:\", np.average(m_array4, 0))\n",
    "print(\"Mean:\", np.mean(m_array4, 0))\n",
    "print(\"Variance:\", np.var(m_array4, 0))"
   ]
  },
  {
   "cell_type": "markdown",
   "metadata": {},
   "source": [
    "4d. Stat Operations - Percentile"
   ]
  },
  {
   "cell_type": "code",
   "execution_count": 36,
   "metadata": {},
   "outputs": [
    {
     "name": "stdout",
     "output_type": "stream",
     "text": [
      "Percentile: [11. 12. 13. 14. 15.]\n"
     ]
    }
   ],
   "source": [
    "print(\"Percentile:\", np.percentile(m_array4, 100, axis = 0))"
   ]
  },
  {
   "cell_type": "markdown",
   "metadata": {},
   "source": [
    "#### To Try\n",
    "- Create a set of 1-D, 2-D and 3-D array\n",
    "- Repeat all the above operation with the above created arrays"
   ]
  },
  {
   "cell_type": "code",
   "execution_count": null,
   "metadata": {},
   "outputs": [],
   "source": []
  }
 ],
 "metadata": {
  "kernelspec": {
   "display_name": "Python 3",
   "language": "python",
   "name": "python3"
  },
  "language_info": {
   "codemirror_mode": {
    "name": "ipython",
    "version": 3
   },
   "file_extension": ".py",
   "mimetype": "text/x-python",
   "name": "python",
   "nbconvert_exporter": "python",
   "pygments_lexer": "ipython3",
   "version": "3.8.5"
  }
 },
 "nbformat": 4,
 "nbformat_minor": 4
}
